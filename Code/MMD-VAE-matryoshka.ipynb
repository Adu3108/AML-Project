{
 "cells": [
  {
   "cell_type": "code",
   "execution_count": 51,
   "metadata": {},
   "outputs": [],
   "source": [
    "import torchvision.datasets as datasets\n",
    "from torchvision import transforms\n",
    "import torch\n",
    "from torch.utils.data import DataLoader\n",
    "from tqdm import tqdm\n",
    "from sklearn.decomposition import PCA\n",
    "import matplotlib.pyplot as plt\n",
    "from matplotlib.colors import ListedColormap\n",
    "from sklearn.model_selection import KFold\n",
    "import numpy as np\n",
    "import os\n",
    "import pandas as pd"
   ]
  },
  {
   "cell_type": "code",
   "execution_count": 52,
   "metadata": {},
   "outputs": [
    {
     "name": "stdout",
     "output_type": "stream",
     "text": [
      "Files already downloaded and verified\n",
      "Files already downloaded and verified\n"
     ]
    }
   ],
   "source": [
    "# training_dataset = datasets.MNIST(root=\"data\", train=True, download=True, transform=transforms.ToTensor())\n",
    "# test_dataset = datasets.MNIST(root=\"data\", train=False, download=True, transform=transforms.ToTensor())\n",
    "os.chdir(\"/home/pulkit/AML-Project/Code/\")\n",
    "training_dataset = datasets.CIFAR10(root=\"data/CIFAR10\", train=True, download=True, transform=transforms.ToTensor())\n",
    "test_dataset = datasets.CIFAR10(root=\"data/CIFAR10\", train=False, download=True, transform=transforms.ToTensor())"
   ]
  },
  {
   "cell_type": "code",
   "execution_count": 53,
   "metadata": {},
   "outputs": [],
   "source": [
    "image_shape = training_dataset.data[0].shape\n",
    "if len(image_shape)==2:\n",
    "  input_channels = 1\n",
    "  input_dim = tuple(image_shape)\n",
    "else:\n",
    "  input_channels = image_shape[2]\n",
    "  input_dim = tuple(image_shape[:-1])"
   ]
  },
  {
   "cell_type": "code",
   "execution_count": 54,
   "metadata": {},
   "outputs": [],
   "source": [
    "class Flatten(torch.nn.Module):\n",
    "    def forward(self, x):\n",
    "        return x.view(x.size(0), -1)\n",
    "    \n",
    "class Reshape(torch.nn.Module):\n",
    "    def __init__(self, outer_shape):\n",
    "        super(Reshape, self).__init__()\n",
    "        self.outer_shape = outer_shape\n",
    "    def forward(self, x):\n",
    "        return x.view(x.size(0), *self.outer_shape)"
   ]
  },
  {
   "cell_type": "code",
   "execution_count": 55,
   "metadata": {},
   "outputs": [],
   "source": [
    "class FeedForwardClassifier(torch.nn.Module):\n",
    "    def __init__(self, output_dim, embed_size) -> None:\n",
    "        super().__init__()\n",
    "        self.fc1 = torch.nn.Linear(embed_size, 250)\n",
    "        self.fc2 = torch.nn.Linear(250, output_dim)\n",
    "\n",
    "    def forward(self, embedding):\n",
    "        x = embedding.squeeze()\n",
    "        x = torch.nn.ReLU()(self.fc1(x))\n",
    "        output = self.fc2(x)\n",
    "        return output\n",
    "\n",
    "    def predict(self, embedding):\n",
    "        logits = self.forward(embedding)\n",
    "        probabilities = torch.nn.Softmax()(logits)\n",
    "        return torch.argmax(probabilities, dim=1)"
   ]
  },
  {
   "cell_type": "code",
   "execution_count": 56,
   "metadata": {},
   "outputs": [],
   "source": [
    "# Encoder and decoder use the DC-GAN architecture\n",
    "class Encoder(torch.nn.Module):\n",
    "    def __init__(self, z_dim, input_channels, input_dim):\n",
    "        super(Encoder, self).__init__()\n",
    "        self.input_channels = input_channels\n",
    "        self.height, self.width = input_dim\n",
    "        self.layer_height, self.layer_width = self.get_layer_size(3)\n",
    "        self.model = torch.nn.ModuleList([\n",
    "            torch.nn.Conv2d(\n",
    "                in_channels=input_channels, \n",
    "                out_channels=64, \n",
    "                kernel_size=4, \n",
    "                stride=2, \n",
    "                padding=1\n",
    "            ),\n",
    "            torch.nn.LeakyReLU(),\n",
    "            torch.nn.Conv2d(\n",
    "                in_channels=64, \n",
    "                out_channels=64, \n",
    "                kernel_size=4, \n",
    "                stride=2, \n",
    "                padding=1\n",
    "            ),\n",
    "            torch.nn.LeakyReLU(),\n",
    "            torch.nn.Conv2d(\n",
    "                in_channels=64, \n",
    "                out_channels=128, \n",
    "                kernel_size=4, \n",
    "                stride=2, \n",
    "                padding=1\n",
    "            ),\n",
    "            torch.nn.LeakyReLU(),\n",
    "            Flatten(),\n",
    "            torch.nn.Linear(128*self.layer_height*self.layer_width, 1024),\n",
    "            torch.nn.LeakyReLU(),\n",
    "        ])\n",
    "        self.dense_mu = torch.nn.Linear(1024, z_dim)\n",
    "        self.dense_logvar = torch.nn.Linear(1024, z_dim)\n",
    "        \n",
    "    def get_layer_size(self, layer_num):\n",
    "        h = self.height\n",
    "        w = self.width\n",
    "        for _ in range(layer_num):\n",
    "            h = int(h/2)\n",
    "            w = int(w/2)\n",
    "        return h, w\n",
    "    \n",
    "    def forward(self, x):\n",
    "        for layer in self.model:\n",
    "            x = layer(x)\n",
    "        mu = self.dense_mu(x)\n",
    "        logvar = self.dense_logvar(x)\n",
    "        return mu, logvar\n",
    "    \n",
    "    \n",
    "class Decoder(torch.nn.Module):\n",
    "    def __init__(self, z_dim, input_channels, input_dim):\n",
    "        super(Decoder, self).__init__()\n",
    "        self.input_channels = input_channels\n",
    "        self.height, self.width = input_dim\n",
    "        self.layer_height, self.layer_width = self.get_layer_size(3)\n",
    "        self.model = torch.nn.ModuleList([\n",
    "            torch.nn.Linear(z_dim, 1024),\n",
    "            torch.nn.ReLU(),\n",
    "            torch.nn.Linear(1024, self.layer_height*self.layer_width*128),\n",
    "            torch.nn.ReLU(),\n",
    "            Reshape((128,self.layer_height,self.layer_width,)),\n",
    "            torch.nn.ConvTranspose2d(128, 64, 4, 2, padding=1),\n",
    "            torch.nn.ReLU(),\n",
    "            torch.nn.ConvTranspose2d(\n",
    "                in_channels=64, \n",
    "                out_channels=64, \n",
    "                kernel_size=4, \n",
    "                stride=2, \n",
    "                padding=1\n",
    "            ),\n",
    "            torch.nn.ReLU(),\n",
    "            torch.nn.ConvTranspose2d(64, input_channels, 4, 2, padding=1),\n",
    "            torch.nn.Sigmoid()\n",
    "        ])\n",
    "\n",
    "    def get_layer_size(self, layer_num):\n",
    "        h = self.height\n",
    "        w = self.width\n",
    "        for _ in range(layer_num):\n",
    "            h = int(h/2)\n",
    "            w = int(w/2)\n",
    "        return h, w\n",
    "        \n",
    "    def forward(self, x):\n",
    "        for layer in self.model:\n",
    "            x = layer(x)\n",
    "        return x\n",
    "    \n",
    "class Model(torch.nn.Module):\n",
    "    def __init__(self, z_dim, strategy, input_channels, input_dim):\n",
    "        super(Model, self).__init__()\n",
    "        self.encoder = Encoder(z_dim, input_channels, input_dim)\n",
    "        self.decoder = Decoder(z_dim, input_channels, input_dim)\n",
    "        self.strategy = strategy\n",
    "        \n",
    "    def forward(self, x):\n",
    "        mu, logvar = self.encoder(x)\n",
    "        std = torch.exp(logvar / 2)\n",
    "        eps = torch.randn_like(std)\n",
    "\n",
    "        if self.strategy==\"Sampling\":\n",
    "            z = mu + eps * std\n",
    "        elif self.strategy==\"MAP\":\n",
    "            z = mu\n",
    "\n",
    "        x_reconstructed = self.decoder(z)\n",
    "        return z, x_reconstructed, mu, logvar"
   ]
  },
  {
   "cell_type": "code",
   "execution_count": 57,
   "metadata": {},
   "outputs": [],
   "source": [
    "class Trainer:\n",
    "    def __init__(self, train_loader, val_loader, model_type, sampling_strategy, num_samples, epochs, patience, delta, batch_size, embed_size, input_channels, input_dim):\n",
    "        # Hyperparameters\n",
    "        self.embed_size = embed_size\n",
    "        self.input_channels = input_channels\n",
    "        self.input_dim = input_dim\n",
    "        self.batch_size = batch_size\n",
    "        self.num_samples = num_samples\n",
    "        self.epochs = epochs\n",
    "        self.patience = patience\n",
    "        self.delta = delta\n",
    "\n",
    "        # Dataloader\n",
    "        self.train_loader = train_loader\n",
    "        self.val_loader = val_loader\n",
    "\n",
    "        self.best_score = None\n",
    "        self.num_bad_epochs = 0\n",
    "        self.DEVICE = \"cuda\" if torch.cuda.is_available() else \"cpu\"\n",
    "\n",
    "        assert model_type==\"VAE\" or model_type==\"MMD\"\n",
    "        self.model_type = model_type\n",
    "    \n",
    "        assert sampling_strategy==\"Sampling\" or sampling_strategy==\"MAP\"\n",
    "        self.sampling_strategy = sampling_strategy\n",
    "\n",
    "        # Model\n",
    "        self.model = Model(z_dim=self.embed_size, strategy=self.sampling_strategy, input_channels=self.input_channels, input_dim=self.input_dim).to(self.DEVICE)\n",
    "\n",
    "    def compute_kernel(self, x, y):\n",
    "        x_size = x.size(0)\n",
    "        y_size = y.size(0)\n",
    "        dim = x.size(1)\n",
    "        x = x.unsqueeze(1) # (x_size, 1, dim)\n",
    "        y = y.unsqueeze(0) # (1, y_size, dim)\n",
    "        tiled_x = x.expand(x_size, y_size, dim)\n",
    "        tiled_y = y.expand(x_size, y_size, dim)\n",
    "        kernel_input = (tiled_x - tiled_y).pow(2).mean(2)/float(dim)\n",
    "        return torch.exp(-kernel_input) # (x_size, y_size\n",
    "\n",
    "    def compute_mmd(self, x, y):\n",
    "        x_kernel = self.compute_kernel(x, x)\n",
    "        y_kernel = self.compute_kernel(y, y)\n",
    "        xy_kernel = self.compute_kernel(x, y)\n",
    "        mmd = x_kernel.mean() + y_kernel.mean() - 2*xy_kernel.mean()\n",
    "        return mmd\n",
    "    \n",
    "    def early_stopping(self, fold):\n",
    "        # Validation Loop\n",
    "        val_loss = 0\n",
    "        with torch.no_grad():\n",
    "            for image, label in tqdm(self.val_loader):\n",
    "                image = image.to(self.DEVICE)\n",
    "                label = label.type(torch.LongTensor).to(self.DEVICE)\n",
    "\n",
    "                true_samples =  torch.randn(self.num_samples, self.embed_size).to(self.DEVICE)\n",
    "                embedding, out, mu, logvar = self.model.forward(image)\n",
    "\n",
    "                mse_val_loss = torch.nn.functional.mse_loss(out, image)\n",
    "                kl_val_loss = torch.mul(input=torch.sum(mu.pow(2) + logvar.exp() - logvar - 1), other=0.5)\n",
    "                mmd_val_loss = self.compute_mmd(true_samples, embedding)\n",
    "\n",
    "                if self.model_type==\"VAE\":\n",
    "                    val_loss += (mse_val_loss + kl_val_loss)\n",
    "                elif self.model_type==\"MMD\":\n",
    "                    val_loss += (mse_val_loss + mmd_val_loss)\n",
    "        \n",
    "        # Early Stopping Condition\n",
    "        if self.best_score == None:\n",
    "            self.best_score = val_loss\n",
    "            model_state_dict = self.model.state_dict()\n",
    "            torch.save(model_state_dict, f\"./weights/VAE/VAE_{fold}_weights.pt\")\n",
    "        elif self.best_score-val_loss>self.delta:\n",
    "            self.best_score = val_loss\n",
    "            model_state_dict = self.model.state_dict()\n",
    "            self.num_bad_epochs = 0\n",
    "            torch.save(model_state_dict, f\"./weights/VAE/VAE_{fold}_weights.pt\")\n",
    "        else:\n",
    "            self.num_bad_epochs += 1\n",
    "        \n",
    "        if self.num_bad_epochs==self.patience:\n",
    "            return True, val_loss\n",
    "        else:\n",
    "            return False, val_loss\n",
    "        \n",
    "    def training(self, fold):\n",
    "        self.optimizer = torch.optim.Adam(self.model.parameters())\n",
    "        self.model.train()\n",
    "\n",
    "        for epoch in range(self.epochs):\n",
    "            # Training Loop\n",
    "            epoch_loss = 0\n",
    "            for image, label in tqdm(self.train_loader):\n",
    "                self.optimizer.zero_grad()\n",
    "                image = image.to(self.DEVICE)\n",
    "                label = label.type(torch.LongTensor).to(self.DEVICE)\n",
    "\n",
    "                # Passing the input image through VAE\n",
    "                embedding, out, mu, logvar = self.model.forward(image)\n",
    "\n",
    "                # Mean Square Error Loss (Reconstruction loss in VAE Loss function)\n",
    "                mse_loss = torch.nn.functional.mse_loss(out, image)\n",
    "\n",
    "                # Maximum Mean Discrepancy\n",
    "                true_samples =  torch.randn(self.num_samples, self.embed_size).to(self.DEVICE)\n",
    "                mmd = self.compute_mmd(true_samples, embedding)\n",
    "\n",
    "                # KL-Divergence Loss (Regularization loss in VAE Loss function)\n",
    "                kl_loss = torch.mul(input=torch.sum(mu.pow(2) + logvar.exp() - logvar - 1), other=0.5)\n",
    "\n",
    "                # Total Loss Function\n",
    "                if self.model_type==\"VAE\":\n",
    "                    loss = mse_loss + kl_loss       # Reconstruction Loss + Regularization Loss\n",
    "                elif self.model_type==\"MMD\":\n",
    "                    loss = mse_loss + mmd           # Reconstruction Loss + Maximum Mean Discrepancy\n",
    "\n",
    "                loss.backward() # Perform Back-Propogation\n",
    "                self.optimizer.step() # Performs a single optimization step (parameter update)\n",
    "                epoch_loss += loss\n",
    "                del loss, out\n",
    "                \n",
    "            early_stopping, val_loss = self.early_stopping(fold)\n",
    "            print(f'Epoch: {epoch}; Training Loss: {epoch_loss}; Validation Loss: {val_loss}')\n",
    "            \n",
    "            if early_stopping:\n",
    "                print(f'Early Stopping at epoch {epoch}')\n",
    "                break\n"
   ]
  },
  {
   "cell_type": "code",
   "execution_count": 58,
   "metadata": {},
   "outputs": [],
   "source": [
    "class Classifier:\n",
    "    def __init__(self, model, train_loader, val_loader, test_loader, epochs, num_classes, embed_size, delta, patience):\n",
    "        self.training_loader = train_loader\n",
    "        self.val_loader = val_loader\n",
    "        self.test_loader = test_loader\n",
    "\n",
    "        self.epochs = epochs\n",
    "        self.num_classes = num_classes\n",
    "        self.embed_size = embed_size\n",
    "        self.delta = delta\n",
    "        self.patience = patience\n",
    "        self.DEVICE = \"cuda\" if torch.cuda.is_available() else \"cpu\"\n",
    "\n",
    "        self.model = model\n",
    "        self.classifier = FeedForwardClassifier(output_dim=self.num_classes, embed_size=self.embed_size).to(self.DEVICE)\n",
    "\n",
    "    def early_stopping(self, fold):\n",
    "        # Validation Loop\n",
    "        val_loss = 0\n",
    "        with torch.no_grad():\n",
    "            for image, label in tqdm(self.val_loader):\n",
    "                image = image.to(self.DEVICE)\n",
    "                label = label.type(torch.LongTensor).to(self.DEVICE)\n",
    "\n",
    "                embedding, _, _, _ = self.model.forward(image)\n",
    "                prediction = self.classifier.forward(embedding)\n",
    "                classification_loss = torch.nn.CrossEntropyLoss()(prediction, label)\n",
    "                val_loss += classification_loss\n",
    "        \n",
    "        # Early Stopping\n",
    "        if self.best_score == None:\n",
    "            self.best_score = val_loss\n",
    "            classifier_state_dict = self.classifier.state_dict()\n",
    "            torch.save(classifier_state_dict, f\"./weights/classifier/classifier_{fold}_weights.pt\")\n",
    "        elif self.best_score-val_loss>self.delta:\n",
    "            self.best_score = val_loss\n",
    "            classifier_state_dict = self.classifier.state_dict()\n",
    "            self.num_bad_epochs = 0\n",
    "            torch.save(classifier_state_dict, f\"./weights/classifier/classifier_{fold}_weights.pt\")\n",
    "        else:\n",
    "            self.num_bad_epochs += 1\n",
    "        \n",
    "        if self.num_bad_epochs==self.patience:\n",
    "            return True, val_loss\n",
    "        else:\n",
    "            return False, val_loss\n",
    "\n",
    "    def training(self, fold):\n",
    "        self.optimizer = torch.optim.Adam(self.classifier.parameters())\n",
    "        self.best_score = None\n",
    "        self.num_bad_epochs = 0\n",
    "        \n",
    "        for epoch in range(self.epochs):\n",
    "            # Training Loop\n",
    "            epoch_loss = 0\n",
    "            for image, label in tqdm(self.training_loader):\n",
    "                self.optimizer.zero_grad()\n",
    "                image = image.to(self.DEVICE)\n",
    "                label = label.type(torch.LongTensor).to(self.DEVICE)\n",
    "\n",
    "                with torch.no_grad():\n",
    "                    # Passing the input image through VAE\n",
    "                    embedding, _, _, _ = self.model.forward(image)\n",
    "\n",
    "                # Passing the latent representation through Classifier\n",
    "                prediction = self.classifier.forward(embedding)\n",
    "                loss = torch.nn.CrossEntropyLoss()(prediction, label)\n",
    "\n",
    "                loss.backward() # Perform Back-Propogation\n",
    "                self.optimizer.step() # Performs a single optimization step (parameter update)\n",
    "                epoch_loss += loss\n",
    "                del loss\n",
    "            \n",
    "            early_stopping, val_loss = self.early_stopping(fold)\n",
    "            print(f'Epoch: {epoch}; Training Loss: {epoch_loss}; Validation Loss: {val_loss}')\n",
    "            \n",
    "            if early_stopping:\n",
    "                print(f'Early Stopping at epoch {epoch}')\n",
    "                break\n",
    "\n",
    "    def predict(self, fold):\n",
    "        self.model.load_state_dict(torch.load(f\"./weights/VAE/VAE_{fold}_weights.pt\"))\n",
    "\n",
    "        classifier_network = FeedForwardClassifier(output_dim=self.num_classes, embed_size=self.embed_size).to(self.DEVICE)\n",
    "        classifier_network.load_state_dict(torch.load(f\"./weights/classifier/classifier_{fold}_weights.pt\"))\n",
    "\n",
    "        self.model.eval()\n",
    "        classifier_network.eval()\n",
    "\n",
    "        correct = 0\n",
    "        with torch.no_grad():\n",
    "            for image, label in tqdm(self.test_loader):\n",
    "                image = image.to(self.DEVICE)\n",
    "                label = label.to(torch.int32).to(self.DEVICE)\n",
    "\n",
    "                embedding, _, _, _ = self.model.forward(image)\n",
    "                prediction = classifier_network.predict(embedding).to(torch.int32)\n",
    "\n",
    "                correct += int(sum(prediction==label))\n",
    "                \n",
    "        accuracy = 100*correct/len(self.test_loader.dataset)\n",
    "        print(f\"Accuracy : {accuracy:.2f}\")\n",
    "        return accuracy\n",
    "            "
   ]
  },
  {
   "cell_type": "code",
   "execution_count": 59,
   "metadata": {},
   "outputs": [],
   "source": [
    "DEVICE = \"cuda\" if torch.cuda.is_available() else \"cpu\"\n",
    "num_classes = len(training_dataset.classes)\n",
    "# embed_size = 16\n",
    "batch_size = 32\n",
    "num_samples = 200\n",
    "epochs = 10\n",
    "patience = 5\n",
    "delta = 1e-4\n",
    "# sampling_strategy = \"MAP\"\n",
    "# model_type = \"MMD\"\n",
    "os.chdir(\"/home/pulkit/AML-Project/Code/\")"
   ]
  },
  {
   "cell_type": "code",
   "execution_count": 60,
   "metadata": {},
   "outputs": [],
   "source": [
    "training_size = int(len(training_dataset)*0.8)\n",
    "val_size = len(training_dataset) - training_size\n",
    "training_data, val_data = torch.utils.data.random_split(training_dataset, [training_size, val_size])\n",
    "\n",
    "training_loader = DataLoader(training_data, shuffle=False, batch_size = batch_size)\n",
    "val_loader = DataLoader(val_data, shuffle=False, batch_size = batch_size)\n",
    "test_loader = DataLoader(test_dataset, shuffle=False, batch_size = batch_size)"
   ]
  },
  {
   "cell_type": "code",
   "execution_count": 62,
   "metadata": {},
   "outputs": [
    {
     "name": "stdout",
     "output_type": "stream",
     "text": [
      "Fold 1\n",
      "-------\n"
     ]
    },
    {
     "name": "stderr",
     "output_type": "stream",
     "text": [
      "100%|██████████| 1250/1250 [01:48<00:00, 11.48it/s]\n",
      "100%|██████████| 313/313 [00:08<00:00, 37.13it/s]\n"
     ]
    },
    {
     "name": "stdout",
     "output_type": "stream",
     "text": [
      "Epoch: 0; Training Loss: 31.135629653930664; Validation Loss: 5.396955966949463\n"
     ]
    },
    {
     "name": "stderr",
     "output_type": "stream",
     "text": [
      "100%|██████████| 1250/1250 [01:48<00:00, 11.48it/s]\n",
      "100%|██████████| 313/313 [00:08<00:00, 36.03it/s]\n"
     ]
    },
    {
     "name": "stdout",
     "output_type": "stream",
     "text": [
      "Epoch: 1; Training Loss: 19.610647201538086; Validation Loss: 4.493559837341309\n"
     ]
    },
    {
     "name": "stderr",
     "output_type": "stream",
     "text": [
      "100%|██████████| 1250/1250 [01:48<00:00, 11.57it/s]\n",
      "100%|██████████| 313/313 [00:08<00:00, 38.70it/s]\n"
     ]
    },
    {
     "name": "stdout",
     "output_type": "stream",
     "text": [
      "Epoch: 2; Training Loss: 17.11350440979004; Validation Loss: 4.069973468780518\n"
     ]
    },
    {
     "name": "stderr",
     "output_type": "stream",
     "text": [
      "100%|██████████| 1250/1250 [01:41<00:00, 12.32it/s]\n",
      "100%|██████████| 313/313 [00:08<00:00, 37.15it/s]\n"
     ]
    },
    {
     "name": "stdout",
     "output_type": "stream",
     "text": [
      "Epoch: 3; Training Loss: 15.541463851928711; Validation Loss: 3.7298941612243652\n"
     ]
    },
    {
     "name": "stderr",
     "output_type": "stream",
     "text": [
      "100%|██████████| 1250/1250 [01:43<00:00, 12.09it/s]\n",
      "100%|██████████| 313/313 [00:08<00:00, 37.02it/s]\n"
     ]
    },
    {
     "name": "stdout",
     "output_type": "stream",
     "text": [
      "Epoch: 4; Training Loss: 14.541712760925293; Validation Loss: 3.6175851821899414\n"
     ]
    },
    {
     "name": "stderr",
     "output_type": "stream",
     "text": [
      "100%|██████████| 1250/1250 [1:17:15<00:00,  3.71s/it]   \n",
      "100%|██████████| 313/313 [00:06<00:00, 45.04it/s]\n"
     ]
    },
    {
     "name": "stdout",
     "output_type": "stream",
     "text": [
      "Epoch: 5; Training Loss: 13.941975593566895; Validation Loss: 3.4370079040527344\n"
     ]
    },
    {
     "name": "stderr",
     "output_type": "stream",
     "text": [
      "100%|██████████| 1250/1250 [01:29<00:00, 13.93it/s]\n",
      "100%|██████████| 313/313 [00:06<00:00, 44.92it/s]\n"
     ]
    },
    {
     "name": "stdout",
     "output_type": "stream",
     "text": [
      "Epoch: 6; Training Loss: 13.31676959991455; Validation Loss: 3.2862772941589355\n"
     ]
    },
    {
     "name": "stderr",
     "output_type": "stream",
     "text": [
      "100%|██████████| 1250/1250 [01:34<00:00, 13.27it/s]\n",
      "100%|██████████| 313/313 [00:06<00:00, 46.25it/s]\n"
     ]
    },
    {
     "name": "stdout",
     "output_type": "stream",
     "text": [
      "Epoch: 7; Training Loss: 12.708333015441895; Validation Loss: 3.1668214797973633\n"
     ]
    },
    {
     "name": "stderr",
     "output_type": "stream",
     "text": [
      "100%|██████████| 1250/1250 [01:26<00:00, 14.44it/s]\n",
      "100%|██████████| 313/313 [00:06<00:00, 45.41it/s]\n"
     ]
    },
    {
     "name": "stdout",
     "output_type": "stream",
     "text": [
      "Epoch: 8; Training Loss: 12.273231506347656; Validation Loss: 3.095616340637207\n"
     ]
    },
    {
     "name": "stderr",
     "output_type": "stream",
     "text": [
      "100%|██████████| 1250/1250 [01:25<00:00, 14.70it/s]\n",
      "100%|██████████| 313/313 [00:06<00:00, 45.14it/s]\n"
     ]
    },
    {
     "name": "stdout",
     "output_type": "stream",
     "text": [
      "Epoch: 9; Training Loss: 12.01330852508545; Validation Loss: 3.109853506088257\n"
     ]
    },
    {
     "name": "stderr",
     "output_type": "stream",
     "text": [
      "100%|██████████| 1250/1250 [00:20<00:00, 62.10it/s]\n",
      "100%|██████████| 313/313 [00:04<00:00, 67.75it/s]\n"
     ]
    },
    {
     "name": "stdout",
     "output_type": "stream",
     "text": [
      "Epoch: 0; Training Loss: 2123.59130859375; Validation Loss: 480.213134765625\n"
     ]
    },
    {
     "name": "stderr",
     "output_type": "stream",
     "text": [
      "100%|██████████| 1250/1250 [00:20<00:00, 61.78it/s]\n",
      "100%|██████████| 313/313 [00:05<00:00, 60.21it/s]\n"
     ]
    },
    {
     "name": "stdout",
     "output_type": "stream",
     "text": [
      "Epoch: 1; Training Loss: 1834.9010009765625; Validation Loss: 450.1329040527344\n"
     ]
    },
    {
     "name": "stderr",
     "output_type": "stream",
     "text": [
      "100%|██████████| 1250/1250 [00:19<00:00, 63.55it/s]\n",
      "100%|██████████| 313/313 [00:04<00:00, 71.43it/s]\n"
     ]
    },
    {
     "name": "stdout",
     "output_type": "stream",
     "text": [
      "Epoch: 2; Training Loss: 1732.4967041015625; Validation Loss: 437.51904296875\n"
     ]
    },
    {
     "name": "stderr",
     "output_type": "stream",
     "text": [
      "100%|██████████| 1250/1250 [00:18<00:00, 66.95it/s]\n",
      "100%|██████████| 313/313 [00:05<00:00, 60.51it/s]\n"
     ]
    },
    {
     "name": "stdout",
     "output_type": "stream",
     "text": [
      "Epoch: 3; Training Loss: 1667.8309326171875; Validation Loss: 430.8373718261719\n"
     ]
    },
    {
     "name": "stderr",
     "output_type": "stream",
     "text": [
      "100%|██████████| 1250/1250 [00:18<00:00, 67.50it/s]\n",
      "100%|██████████| 313/313 [00:04<00:00, 71.98it/s]\n"
     ]
    },
    {
     "name": "stdout",
     "output_type": "stream",
     "text": [
      "Epoch: 4; Training Loss: 1620.464599609375; Validation Loss: 427.22589111328125\n"
     ]
    },
    {
     "name": "stderr",
     "output_type": "stream",
     "text": [
      "100%|██████████| 1250/1250 [00:19<00:00, 65.54it/s]\n",
      "100%|██████████| 313/313 [00:04<00:00, 71.11it/s]\n"
     ]
    },
    {
     "name": "stdout",
     "output_type": "stream",
     "text": [
      "Epoch: 5; Training Loss: 1583.1678466796875; Validation Loss: 425.1289978027344\n"
     ]
    },
    {
     "name": "stderr",
     "output_type": "stream",
     "text": [
      "100%|██████████| 1250/1250 [00:19<00:00, 63.60it/s]\n",
      "100%|██████████| 313/313 [00:04<00:00, 63.44it/s]\n"
     ]
    },
    {
     "name": "stdout",
     "output_type": "stream",
     "text": [
      "Epoch: 6; Training Loss: 1552.90478515625; Validation Loss: 424.36309814453125\n"
     ]
    },
    {
     "name": "stderr",
     "output_type": "stream",
     "text": [
      "100%|██████████| 1250/1250 [00:20<00:00, 60.24it/s]\n",
      "100%|██████████| 313/313 [00:04<00:00, 63.65it/s]\n"
     ]
    },
    {
     "name": "stdout",
     "output_type": "stream",
     "text": [
      "Epoch: 7; Training Loss: 1527.793212890625; Validation Loss: 423.8547058105469\n"
     ]
    },
    {
     "name": "stderr",
     "output_type": "stream",
     "text": [
      "100%|██████████| 1250/1250 [00:20<00:00, 61.00it/s]\n",
      "100%|██████████| 313/313 [00:05<00:00, 60.86it/s]\n"
     ]
    },
    {
     "name": "stdout",
     "output_type": "stream",
     "text": [
      "Epoch: 8; Training Loss: 1506.5523681640625; Validation Loss: 423.9800109863281\n"
     ]
    },
    {
     "name": "stderr",
     "output_type": "stream",
     "text": [
      "100%|██████████| 1250/1250 [00:20<00:00, 61.76it/s]\n",
      "100%|██████████| 313/313 [00:04<00:00, 66.09it/s]\n"
     ]
    },
    {
     "name": "stdout",
     "output_type": "stream",
     "text": [
      "Epoch: 9; Training Loss: 1488.243408203125; Validation Loss: 424.11322021484375\n"
     ]
    },
    {
     "name": "stderr",
     "output_type": "stream",
     "text": [
      "  0%|          | 0/313 [00:00<?, ?it/s]/home/pulkit/anaconda3/envs/flow-VAE/lib/python3.7/site-packages/ipykernel_launcher.py:15: UserWarning: Implicit dimension choice for softmax has been deprecated. Change the call to include dim=X as an argument.\n",
      "  from ipykernel import kernelapp as app\n",
      "100%|██████████| 313/313 [00:05<00:00, 62.39it/s]\n"
     ]
    },
    {
     "name": "stdout",
     "output_type": "stream",
     "text": [
      "Accuracy : 52.63\n",
      "Fold 2\n",
      "-------\n"
     ]
    },
    {
     "name": "stderr",
     "output_type": "stream",
     "text": [
      "100%|██████████| 1250/1250 [01:28<00:00, 14.09it/s]\n",
      "100%|██████████| 313/313 [00:07<00:00, 44.47it/s]\n"
     ]
    },
    {
     "name": "stdout",
     "output_type": "stream",
     "text": [
      "Epoch: 0; Training Loss: 30.805068969726562; Validation Loss: 5.7346415519714355\n"
     ]
    },
    {
     "name": "stderr",
     "output_type": "stream",
     "text": [
      "100%|██████████| 1250/1250 [01:31<00:00, 13.65it/s]\n",
      "100%|██████████| 313/313 [00:07<00:00, 42.52it/s]\n"
     ]
    },
    {
     "name": "stdout",
     "output_type": "stream",
     "text": [
      "Epoch: 1; Training Loss: 19.729496002197266; Validation Loss: 4.7589898109436035\n"
     ]
    },
    {
     "name": "stderr",
     "output_type": "stream",
     "text": [
      "100%|██████████| 1250/1250 [01:30<00:00, 13.76it/s]\n",
      "100%|██████████| 313/313 [00:07<00:00, 43.42it/s]\n"
     ]
    },
    {
     "name": "stdout",
     "output_type": "stream",
     "text": [
      "Epoch: 2; Training Loss: 17.401403427124023; Validation Loss: 4.240851402282715\n"
     ]
    },
    {
     "name": "stderr",
     "output_type": "stream",
     "text": [
      "100%|██████████| 1250/1250 [01:28<00:00, 14.05it/s]\n",
      "100%|██████████| 313/313 [00:06<00:00, 45.45it/s]\n"
     ]
    },
    {
     "name": "stdout",
     "output_type": "stream",
     "text": [
      "Epoch: 3; Training Loss: 15.961074829101562; Validation Loss: 3.8693952560424805\n"
     ]
    },
    {
     "name": "stderr",
     "output_type": "stream",
     "text": [
      "100%|██████████| 1250/1250 [01:25<00:00, 14.56it/s]\n",
      "100%|██████████| 313/313 [00:06<00:00, 45.05it/s]\n"
     ]
    },
    {
     "name": "stdout",
     "output_type": "stream",
     "text": [
      "Epoch: 4; Training Loss: 14.882793426513672; Validation Loss: 3.7773172855377197\n"
     ]
    },
    {
     "name": "stderr",
     "output_type": "stream",
     "text": [
      "100%|██████████| 1250/1250 [01:26<00:00, 14.51it/s]\n",
      "100%|██████████| 313/313 [00:06<00:00, 45.77it/s]\n"
     ]
    },
    {
     "name": "stdout",
     "output_type": "stream",
     "text": [
      "Epoch: 5; Training Loss: 14.315472602844238; Validation Loss: 3.618020534515381\n"
     ]
    },
    {
     "name": "stderr",
     "output_type": "stream",
     "text": [
      "100%|██████████| 1250/1250 [01:25<00:00, 14.54it/s]\n",
      "100%|██████████| 313/313 [00:07<00:00, 43.69it/s]\n"
     ]
    },
    {
     "name": "stdout",
     "output_type": "stream",
     "text": [
      "Epoch: 6; Training Loss: 13.691715240478516; Validation Loss: 3.5042669773101807\n"
     ]
    },
    {
     "name": "stderr",
     "output_type": "stream",
     "text": [
      "100%|██████████| 1250/1250 [01:30<00:00, 13.81it/s]\n",
      "100%|██████████| 313/313 [00:06<00:00, 45.09it/s]\n"
     ]
    },
    {
     "name": "stdout",
     "output_type": "stream",
     "text": [
      "Epoch: 7; Training Loss: 13.049881935119629; Validation Loss: 3.335698127746582\n"
     ]
    },
    {
     "name": "stderr",
     "output_type": "stream",
     "text": [
      "100%|██████████| 1250/1250 [1:58:52<00:00,  5.71s/it]     \n",
      "100%|██████████| 313/313 [00:08<00:00, 37.14it/s]\n"
     ]
    },
    {
     "name": "stdout",
     "output_type": "stream",
     "text": [
      "Epoch: 8; Training Loss: 12.537506103515625; Validation Loss: 3.3138930797576904\n"
     ]
    },
    {
     "name": "stderr",
     "output_type": "stream",
     "text": [
      "100%|██████████| 1250/1250 [01:35<00:00, 13.10it/s]\n",
      "100%|██████████| 313/313 [00:07<00:00, 43.32it/s]\n"
     ]
    },
    {
     "name": "stdout",
     "output_type": "stream",
     "text": [
      "Epoch: 9; Training Loss: 12.24913215637207; Validation Loss: 3.0924198627471924\n"
     ]
    },
    {
     "name": "stderr",
     "output_type": "stream",
     "text": [
      "100%|██████████| 1250/1250 [00:21<00:00, 59.19it/s]\n",
      "100%|██████████| 313/313 [00:04<00:00, 63.73it/s]\n"
     ]
    },
    {
     "name": "stdout",
     "output_type": "stream",
     "text": [
      "Epoch: 0; Training Loss: 2124.68798828125; Validation Loss: 484.7830810546875\n"
     ]
    },
    {
     "name": "stderr",
     "output_type": "stream",
     "text": [
      "100%|██████████| 1250/1250 [00:21<00:00, 59.12it/s]\n",
      "100%|██████████| 313/313 [00:05<00:00, 61.22it/s]\n"
     ]
    },
    {
     "name": "stdout",
     "output_type": "stream",
     "text": [
      "Epoch: 1; Training Loss: 1832.377197265625; Validation Loss: 456.7900695800781\n"
     ]
    },
    {
     "name": "stderr",
     "output_type": "stream",
     "text": [
      "100%|██████████| 1250/1250 [00:20<00:00, 60.36it/s]\n",
      "100%|██████████| 313/313 [00:05<00:00, 61.94it/s]\n"
     ]
    },
    {
     "name": "stdout",
     "output_type": "stream",
     "text": [
      "Epoch: 2; Training Loss: 1729.068115234375; Validation Loss: 444.3027648925781\n"
     ]
    },
    {
     "name": "stderr",
     "output_type": "stream",
     "text": [
      "100%|██████████| 1250/1250 [00:20<00:00, 60.64it/s]\n",
      "100%|██████████| 313/313 [00:04<00:00, 66.39it/s]\n"
     ]
    },
    {
     "name": "stdout",
     "output_type": "stream",
     "text": [
      "Epoch: 3; Training Loss: 1665.232666015625; Validation Loss: 437.2187194824219\n"
     ]
    },
    {
     "name": "stderr",
     "output_type": "stream",
     "text": [
      "100%|██████████| 1250/1250 [00:20<00:00, 60.38it/s]\n",
      "100%|██████████| 313/313 [00:04<00:00, 63.34it/s]\n"
     ]
    },
    {
     "name": "stdout",
     "output_type": "stream",
     "text": [
      "Epoch: 4; Training Loss: 1619.5089111328125; Validation Loss: 433.1274719238281\n"
     ]
    },
    {
     "name": "stderr",
     "output_type": "stream",
     "text": [
      "100%|██████████| 1250/1250 [00:20<00:00, 61.21it/s]\n",
      "100%|██████████| 313/313 [00:05<00:00, 58.30it/s]\n"
     ]
    },
    {
     "name": "stdout",
     "output_type": "stream",
     "text": [
      "Epoch: 5; Training Loss: 1583.4892578125; Validation Loss: 430.71673583984375\n"
     ]
    },
    {
     "name": "stderr",
     "output_type": "stream",
     "text": [
      "100%|██████████| 1250/1250 [00:23<00:00, 53.18it/s]\n",
      "100%|██████████| 313/313 [00:05<00:00, 58.81it/s]\n"
     ]
    },
    {
     "name": "stdout",
     "output_type": "stream",
     "text": [
      "Epoch: 6; Training Loss: 1553.7021484375; Validation Loss: 429.1643371582031\n"
     ]
    },
    {
     "name": "stderr",
     "output_type": "stream",
     "text": [
      "100%|██████████| 1250/1250 [00:19<00:00, 62.60it/s]\n",
      "100%|██████████| 313/313 [00:05<00:00, 60.97it/s]\n"
     ]
    },
    {
     "name": "stdout",
     "output_type": "stream",
     "text": [
      "Epoch: 7; Training Loss: 1528.2508544921875; Validation Loss: 428.4143981933594\n"
     ]
    },
    {
     "name": "stderr",
     "output_type": "stream",
     "text": [
      "100%|██████████| 1250/1250 [00:21<00:00, 56.85it/s]\n",
      "100%|██████████| 313/313 [00:05<00:00, 58.16it/s]\n"
     ]
    },
    {
     "name": "stdout",
     "output_type": "stream",
     "text": [
      "Epoch: 8; Training Loss: 1506.488525390625; Validation Loss: 428.32061767578125\n"
     ]
    },
    {
     "name": "stderr",
     "output_type": "stream",
     "text": [
      "100%|██████████| 1250/1250 [00:23<00:00, 53.96it/s]\n",
      "100%|██████████| 313/313 [00:06<00:00, 51.56it/s]\n"
     ]
    },
    {
     "name": "stdout",
     "output_type": "stream",
     "text": [
      "Epoch: 9; Training Loss: 1487.55712890625; Validation Loss: 428.4584655761719\n"
     ]
    },
    {
     "name": "stderr",
     "output_type": "stream",
     "text": [
      "100%|██████████| 313/313 [00:05<00:00, 53.15it/s]\n"
     ]
    },
    {
     "name": "stdout",
     "output_type": "stream",
     "text": [
      "Accuracy : 53.03\n",
      "Fold 3\n",
      "-------\n"
     ]
    },
    {
     "name": "stderr",
     "output_type": "stream",
     "text": [
      "100%|██████████| 1250/1250 [01:43<00:00, 12.05it/s]\n",
      "100%|██████████| 313/313 [00:08<00:00, 38.99it/s]\n"
     ]
    },
    {
     "name": "stdout",
     "output_type": "stream",
     "text": [
      "Epoch: 0; Training Loss: 30.81206703186035; Validation Loss: 5.391993045806885\n"
     ]
    },
    {
     "name": "stderr",
     "output_type": "stream",
     "text": [
      "100%|██████████| 1250/1250 [01:39<00:00, 12.55it/s]\n",
      "100%|██████████| 313/313 [00:06<00:00, 44.73it/s]\n"
     ]
    },
    {
     "name": "stdout",
     "output_type": "stream",
     "text": [
      "Epoch: 1; Training Loss: 19.66371726989746; Validation Loss: 4.554672718048096\n"
     ]
    },
    {
     "name": "stderr",
     "output_type": "stream",
     "text": [
      "100%|██████████| 1250/1250 [01:27<00:00, 14.29it/s]\n",
      "100%|██████████| 313/313 [00:07<00:00, 39.42it/s]\n"
     ]
    },
    {
     "name": "stdout",
     "output_type": "stream",
     "text": [
      "Epoch: 2; Training Loss: 17.08474349975586; Validation Loss: 4.0913801193237305\n"
     ]
    },
    {
     "name": "stderr",
     "output_type": "stream",
     "text": [
      "100%|██████████| 1250/1250 [01:35<00:00, 13.02it/s]\n",
      "100%|██████████| 313/313 [00:07<00:00, 42.57it/s]\n"
     ]
    },
    {
     "name": "stdout",
     "output_type": "stream",
     "text": [
      "Epoch: 3; Training Loss: 15.643893241882324; Validation Loss: 3.808117151260376\n"
     ]
    },
    {
     "name": "stderr",
     "output_type": "stream",
     "text": [
      "100%|██████████| 1250/1250 [01:33<00:00, 13.31it/s]\n",
      "100%|██████████| 313/313 [00:07<00:00, 43.93it/s]\n"
     ]
    },
    {
     "name": "stdout",
     "output_type": "stream",
     "text": [
      "Epoch: 4; Training Loss: 14.631789207458496; Validation Loss: 3.6667237281799316\n"
     ]
    },
    {
     "name": "stderr",
     "output_type": "stream",
     "text": [
      "100%|██████████| 1250/1250 [01:30<00:00, 13.74it/s]\n",
      "100%|██████████| 313/313 [00:07<00:00, 42.96it/s]\n"
     ]
    },
    {
     "name": "stdout",
     "output_type": "stream",
     "text": [
      "Epoch: 5; Training Loss: 14.041705131530762; Validation Loss: 3.4742372035980225\n"
     ]
    },
    {
     "name": "stderr",
     "output_type": "stream",
     "text": [
      "100%|██████████| 1250/1250 [01:32<00:00, 13.53it/s]\n",
      "100%|██████████| 313/313 [00:07<00:00, 41.29it/s]\n"
     ]
    },
    {
     "name": "stdout",
     "output_type": "stream",
     "text": [
      "Epoch: 6; Training Loss: 13.362993240356445; Validation Loss: 3.344468593597412\n"
     ]
    },
    {
     "name": "stderr",
     "output_type": "stream",
     "text": [
      "100%|██████████| 1250/1250 [01:38<00:00, 12.70it/s]\n",
      "100%|██████████| 313/313 [00:07<00:00, 41.40it/s]\n"
     ]
    },
    {
     "name": "stdout",
     "output_type": "stream",
     "text": [
      "Epoch: 7; Training Loss: 12.840359687805176; Validation Loss: 3.2118377685546875\n"
     ]
    },
    {
     "name": "stderr",
     "output_type": "stream",
     "text": [
      "100%|██████████| 1250/1250 [01:39<00:00, 12.63it/s]\n",
      "100%|██████████| 313/313 [00:08<00:00, 38.62it/s]\n"
     ]
    },
    {
     "name": "stdout",
     "output_type": "stream",
     "text": [
      "Epoch: 8; Training Loss: 12.395073890686035; Validation Loss: 3.1193082332611084\n"
     ]
    },
    {
     "name": "stderr",
     "output_type": "stream",
     "text": [
      "100%|██████████| 1250/1250 [01:41<00:00, 12.31it/s]\n",
      "100%|██████████| 313/313 [00:07<00:00, 42.37it/s]\n"
     ]
    },
    {
     "name": "stdout",
     "output_type": "stream",
     "text": [
      "Epoch: 9; Training Loss: 11.985708236694336; Validation Loss: 3.0615122318267822\n"
     ]
    },
    {
     "name": "stderr",
     "output_type": "stream",
     "text": [
      "100%|██████████| 1250/1250 [00:20<00:00, 62.25it/s]\n",
      "100%|██████████| 313/313 [00:05<00:00, 58.49it/s]\n"
     ]
    },
    {
     "name": "stdout",
     "output_type": "stream",
     "text": [
      "Epoch: 0; Training Loss: 2130.443603515625; Validation Loss: 486.115234375\n"
     ]
    },
    {
     "name": "stderr",
     "output_type": "stream",
     "text": [
      "100%|██████████| 1250/1250 [00:21<00:00, 57.15it/s]\n",
      "100%|██████████| 313/313 [00:05<00:00, 57.96it/s]\n"
     ]
    },
    {
     "name": "stdout",
     "output_type": "stream",
     "text": [
      "Epoch: 1; Training Loss: 1843.73193359375; Validation Loss: 457.5479431152344\n"
     ]
    },
    {
     "name": "stderr",
     "output_type": "stream",
     "text": [
      "100%|██████████| 1250/1250 [00:22<00:00, 56.29it/s]\n",
      "100%|██████████| 313/313 [00:05<00:00, 61.22it/s]\n"
     ]
    },
    {
     "name": "stdout",
     "output_type": "stream",
     "text": [
      "Epoch: 2; Training Loss: 1737.28125; Validation Loss: 444.35986328125\n"
     ]
    },
    {
     "name": "stderr",
     "output_type": "stream",
     "text": [
      "100%|██████████| 1250/1250 [00:22<00:00, 55.84it/s]\n",
      "100%|██████████| 313/313 [00:05<00:00, 57.28it/s]\n"
     ]
    },
    {
     "name": "stdout",
     "output_type": "stream",
     "text": [
      "Epoch: 3; Training Loss: 1669.309814453125; Validation Loss: 437.2217712402344\n"
     ]
    },
    {
     "name": "stderr",
     "output_type": "stream",
     "text": [
      "100%|██████████| 1250/1250 [00:21<00:00, 57.48it/s]\n",
      "100%|██████████| 313/313 [00:05<00:00, 55.41it/s]\n"
     ]
    },
    {
     "name": "stdout",
     "output_type": "stream",
     "text": [
      "Epoch: 4; Training Loss: 1620.250244140625; Validation Loss: 433.0871276855469\n"
     ]
    },
    {
     "name": "stderr",
     "output_type": "stream",
     "text": [
      "100%|██████████| 1250/1250 [00:22<00:00, 55.70it/s]\n",
      "100%|██████████| 313/313 [00:05<00:00, 58.07it/s]\n"
     ]
    },
    {
     "name": "stdout",
     "output_type": "stream",
     "text": [
      "Epoch: 5; Training Loss: 1582.528564453125; Validation Loss: 430.38348388671875\n"
     ]
    },
    {
     "name": "stderr",
     "output_type": "stream",
     "text": [
      "100%|██████████| 1250/1250 [00:21<00:00, 57.73it/s]\n",
      "100%|██████████| 313/313 [00:05<00:00, 59.04it/s]\n"
     ]
    },
    {
     "name": "stdout",
     "output_type": "stream",
     "text": [
      "Epoch: 6; Training Loss: 1552.20654296875; Validation Loss: 429.0446472167969\n"
     ]
    },
    {
     "name": "stderr",
     "output_type": "stream",
     "text": [
      "100%|██████████| 1250/1250 [00:21<00:00, 57.11it/s]\n",
      "100%|██████████| 313/313 [00:04<00:00, 63.00it/s]\n"
     ]
    },
    {
     "name": "stdout",
     "output_type": "stream",
     "text": [
      "Epoch: 7; Training Loss: 1526.7060546875; Validation Loss: 428.3968505859375\n"
     ]
    },
    {
     "name": "stderr",
     "output_type": "stream",
     "text": [
      "100%|██████████| 1250/1250 [00:20<00:00, 60.93it/s]\n",
      "100%|██████████| 313/313 [00:05<00:00, 62.59it/s]\n"
     ]
    },
    {
     "name": "stdout",
     "output_type": "stream",
     "text": [
      "Epoch: 8; Training Loss: 1504.5050048828125; Validation Loss: 428.30511474609375\n"
     ]
    },
    {
     "name": "stderr",
     "output_type": "stream",
     "text": [
      "100%|██████████| 1250/1250 [00:21<00:00, 58.08it/s]\n",
      "100%|██████████| 313/313 [00:05<00:00, 55.62it/s]\n"
     ]
    },
    {
     "name": "stdout",
     "output_type": "stream",
     "text": [
      "Epoch: 9; Training Loss: 1485.322021484375; Validation Loss: 428.33099365234375\n"
     ]
    },
    {
     "name": "stderr",
     "output_type": "stream",
     "text": [
      "100%|██████████| 313/313 [00:05<00:00, 61.10it/s]\n"
     ]
    },
    {
     "name": "stdout",
     "output_type": "stream",
     "text": [
      "Accuracy : 52.53\n",
      "Fold 4\n",
      "-------\n"
     ]
    },
    {
     "name": "stderr",
     "output_type": "stream",
     "text": [
      "100%|██████████| 1250/1250 [01:41<00:00, 12.29it/s]\n",
      "100%|██████████| 313/313 [00:07<00:00, 41.45it/s]\n"
     ]
    },
    {
     "name": "stdout",
     "output_type": "stream",
     "text": [
      "Epoch: 0; Training Loss: 30.409666061401367; Validation Loss: 5.347603797912598\n"
     ]
    },
    {
     "name": "stderr",
     "output_type": "stream",
     "text": [
      "100%|██████████| 1250/1250 [01:42<00:00, 12.14it/s]\n",
      "100%|██████████| 313/313 [00:07<00:00, 40.37it/s]\n"
     ]
    },
    {
     "name": "stdout",
     "output_type": "stream",
     "text": [
      "Epoch: 1; Training Loss: 19.39395523071289; Validation Loss: 4.423980236053467\n"
     ]
    },
    {
     "name": "stderr",
     "output_type": "stream",
     "text": [
      "100%|██████████| 1250/1250 [01:42<00:00, 12.21it/s]\n",
      "100%|██████████| 313/313 [00:07<00:00, 40.89it/s]\n"
     ]
    },
    {
     "name": "stdout",
     "output_type": "stream",
     "text": [
      "Epoch: 2; Training Loss: 17.00128173828125; Validation Loss: 4.074300289154053\n"
     ]
    },
    {
     "name": "stderr",
     "output_type": "stream",
     "text": [
      "100%|██████████| 1250/1250 [01:41<00:00, 12.37it/s]\n",
      "100%|██████████| 313/313 [00:07<00:00, 41.16it/s]\n"
     ]
    },
    {
     "name": "stdout",
     "output_type": "stream",
     "text": [
      "Epoch: 3; Training Loss: 15.538846969604492; Validation Loss: 3.751739740371704\n"
     ]
    },
    {
     "name": "stderr",
     "output_type": "stream",
     "text": [
      "100%|██████████| 1250/1250 [01:31<00:00, 13.59it/s]\n",
      "100%|██████████| 313/313 [00:06<00:00, 46.02it/s]\n"
     ]
    },
    {
     "name": "stdout",
     "output_type": "stream",
     "text": [
      "Epoch: 4; Training Loss: 14.538331031799316; Validation Loss: 3.578542709350586\n"
     ]
    },
    {
     "name": "stderr",
     "output_type": "stream",
     "text": [
      "100%|██████████| 1250/1250 [01:25<00:00, 14.56it/s]\n",
      "100%|██████████| 313/313 [00:06<00:00, 45.63it/s]\n"
     ]
    },
    {
     "name": "stdout",
     "output_type": "stream",
     "text": [
      "Epoch: 5; Training Loss: 13.870683670043945; Validation Loss: 3.4151628017425537\n"
     ]
    },
    {
     "name": "stderr",
     "output_type": "stream",
     "text": [
      "100%|██████████| 1250/1250 [01:25<00:00, 14.55it/s]\n",
      "100%|██████████| 313/313 [00:06<00:00, 46.40it/s]\n"
     ]
    },
    {
     "name": "stdout",
     "output_type": "stream",
     "text": [
      "Epoch: 6; Training Loss: 13.26021671295166; Validation Loss: 3.3390285968780518\n"
     ]
    },
    {
     "name": "stderr",
     "output_type": "stream",
     "text": [
      "100%|██████████| 1250/1250 [01:26<00:00, 14.37it/s]\n",
      "100%|██████████| 313/313 [00:06<00:00, 45.16it/s]\n"
     ]
    },
    {
     "name": "stdout",
     "output_type": "stream",
     "text": [
      "Epoch: 7; Training Loss: 12.676592826843262; Validation Loss: 3.240189552307129\n"
     ]
    },
    {
     "name": "stderr",
     "output_type": "stream",
     "text": [
      "100%|██████████| 1250/1250 [01:35<00:00, 13.05it/s]\n",
      "100%|██████████| 313/313 [00:07<00:00, 39.58it/s]\n"
     ]
    },
    {
     "name": "stdout",
     "output_type": "stream",
     "text": [
      "Epoch: 8; Training Loss: 12.270576477050781; Validation Loss: 3.160651445388794\n"
     ]
    },
    {
     "name": "stderr",
     "output_type": "stream",
     "text": [
      "100%|██████████| 1250/1250 [01:38<00:00, 12.66it/s]\n",
      "100%|██████████| 313/313 [00:07<00:00, 39.77it/s]\n"
     ]
    },
    {
     "name": "stdout",
     "output_type": "stream",
     "text": [
      "Epoch: 9; Training Loss: 11.982501029968262; Validation Loss: 3.0993714332580566\n"
     ]
    },
    {
     "name": "stderr",
     "output_type": "stream",
     "text": [
      "100%|██████████| 1250/1250 [00:22<00:00, 55.01it/s]\n",
      "100%|██████████| 313/313 [00:05<00:00, 55.46it/s]\n"
     ]
    },
    {
     "name": "stdout",
     "output_type": "stream",
     "text": [
      "Epoch: 0; Training Loss: 2124.2236328125; Validation Loss: 487.2240295410156\n"
     ]
    },
    {
     "name": "stderr",
     "output_type": "stream",
     "text": [
      "100%|██████████| 1250/1250 [00:24<00:00, 51.30it/s]\n",
      "100%|██████████| 313/313 [00:05<00:00, 56.27it/s]\n"
     ]
    },
    {
     "name": "stdout",
     "output_type": "stream",
     "text": [
      "Epoch: 1; Training Loss: 1836.301025390625; Validation Loss: 459.08251953125\n"
     ]
    },
    {
     "name": "stderr",
     "output_type": "stream",
     "text": [
      "100%|██████████| 1250/1250 [00:23<00:00, 52.86it/s]\n",
      "100%|██████████| 313/313 [00:05<00:00, 54.83it/s]\n"
     ]
    },
    {
     "name": "stdout",
     "output_type": "stream",
     "text": [
      "Epoch: 2; Training Loss: 1728.3358154296875; Validation Loss: 446.3075256347656\n"
     ]
    },
    {
     "name": "stderr",
     "output_type": "stream",
     "text": [
      "100%|██████████| 1250/1250 [00:21<00:00, 56.86it/s]\n",
      "100%|██████████| 313/313 [00:04<00:00, 64.10it/s]\n"
     ]
    },
    {
     "name": "stdout",
     "output_type": "stream",
     "text": [
      "Epoch: 3; Training Loss: 1659.712646484375; Validation Loss: 439.8438720703125\n"
     ]
    },
    {
     "name": "stderr",
     "output_type": "stream",
     "text": [
      "100%|██████████| 1250/1250 [00:20<00:00, 60.32it/s]\n",
      "100%|██████████| 313/313 [00:04<00:00, 63.16it/s]\n"
     ]
    },
    {
     "name": "stdout",
     "output_type": "stream",
     "text": [
      "Epoch: 4; Training Loss: 1611.0916748046875; Validation Loss: 436.3321838378906\n"
     ]
    },
    {
     "name": "stderr",
     "output_type": "stream",
     "text": [
      "100%|██████████| 1250/1250 [00:22<00:00, 55.91it/s]\n",
      "100%|██████████| 313/313 [00:05<00:00, 60.23it/s]\n"
     ]
    },
    {
     "name": "stdout",
     "output_type": "stream",
     "text": [
      "Epoch: 5; Training Loss: 1573.508056640625; Validation Loss: 434.6472473144531\n"
     ]
    },
    {
     "name": "stderr",
     "output_type": "stream",
     "text": [
      "100%|██████████| 1250/1250 [00:21<00:00, 57.65it/s]\n",
      "100%|██████████| 313/313 [00:05<00:00, 61.18it/s]\n"
     ]
    },
    {
     "name": "stdout",
     "output_type": "stream",
     "text": [
      "Epoch: 6; Training Loss: 1542.5936279296875; Validation Loss: 433.9628601074219\n"
     ]
    },
    {
     "name": "stderr",
     "output_type": "stream",
     "text": [
      "100%|██████████| 1250/1250 [00:21<00:00, 58.49it/s]\n",
      "100%|██████████| 313/313 [00:05<00:00, 58.72it/s]\n"
     ]
    },
    {
     "name": "stdout",
     "output_type": "stream",
     "text": [
      "Epoch: 7; Training Loss: 1517.0126953125; Validation Loss: 433.70501708984375\n"
     ]
    },
    {
     "name": "stderr",
     "output_type": "stream",
     "text": [
      "100%|██████████| 1250/1250 [00:21<00:00, 58.07it/s]\n",
      "100%|██████████| 313/313 [00:05<00:00, 58.58it/s]\n"
     ]
    },
    {
     "name": "stdout",
     "output_type": "stream",
     "text": [
      "Epoch: 8; Training Loss: 1495.0076904296875; Validation Loss: 433.8469543457031\n"
     ]
    },
    {
     "name": "stderr",
     "output_type": "stream",
     "text": [
      "100%|██████████| 1250/1250 [00:20<00:00, 60.47it/s]\n",
      "100%|██████████| 313/313 [00:05<00:00, 61.15it/s]\n"
     ]
    },
    {
     "name": "stdout",
     "output_type": "stream",
     "text": [
      "Epoch: 9; Training Loss: 1475.8251953125; Validation Loss: 434.586669921875\n"
     ]
    },
    {
     "name": "stderr",
     "output_type": "stream",
     "text": [
      "100%|██████████| 313/313 [00:05<00:00, 61.87it/s]\n"
     ]
    },
    {
     "name": "stdout",
     "output_type": "stream",
     "text": [
      "Accuracy : 52.92\n",
      "Fold 5\n",
      "-------\n"
     ]
    },
    {
     "name": "stderr",
     "output_type": "stream",
     "text": [
      "100%|██████████| 1250/1250 [01:35<00:00, 13.09it/s]\n",
      "100%|██████████| 313/313 [00:07<00:00, 40.18it/s]\n"
     ]
    },
    {
     "name": "stdout",
     "output_type": "stream",
     "text": [
      "Epoch: 0; Training Loss: 30.64063835144043; Validation Loss: 5.218973636627197\n"
     ]
    },
    {
     "name": "stderr",
     "output_type": "stream",
     "text": [
      "100%|██████████| 1250/1250 [01:40<00:00, 12.47it/s]\n",
      "100%|██████████| 313/313 [00:07<00:00, 41.91it/s]\n"
     ]
    },
    {
     "name": "stdout",
     "output_type": "stream",
     "text": [
      "Epoch: 1; Training Loss: 19.132612228393555; Validation Loss: 4.384714603424072\n"
     ]
    },
    {
     "name": "stderr",
     "output_type": "stream",
     "text": [
      "100%|██████████| 1250/1250 [01:37<00:00, 12.86it/s]\n",
      "100%|██████████| 313/313 [00:07<00:00, 39.54it/s]\n"
     ]
    },
    {
     "name": "stdout",
     "output_type": "stream",
     "text": [
      "Epoch: 2; Training Loss: 16.96942710876465; Validation Loss: 4.055822849273682\n"
     ]
    },
    {
     "name": "stderr",
     "output_type": "stream",
     "text": [
      "100%|██████████| 1250/1250 [01:41<00:00, 12.30it/s]\n",
      "100%|██████████| 313/313 [00:07<00:00, 40.76it/s]\n"
     ]
    },
    {
     "name": "stdout",
     "output_type": "stream",
     "text": [
      "Epoch: 3; Training Loss: 15.571538925170898; Validation Loss: 3.710840940475464\n"
     ]
    },
    {
     "name": "stderr",
     "output_type": "stream",
     "text": [
      "100%|██████████| 1250/1250 [01:41<00:00, 12.30it/s]\n",
      "100%|██████████| 313/313 [00:07<00:00, 40.09it/s]\n"
     ]
    },
    {
     "name": "stdout",
     "output_type": "stream",
     "text": [
      "Epoch: 4; Training Loss: 14.513476371765137; Validation Loss: 3.5576398372650146\n"
     ]
    },
    {
     "name": "stderr",
     "output_type": "stream",
     "text": [
      "100%|██████████| 1250/1250 [01:41<00:00, 12.37it/s]\n",
      "100%|██████████| 313/313 [00:07<00:00, 40.09it/s]\n"
     ]
    },
    {
     "name": "stdout",
     "output_type": "stream",
     "text": [
      "Epoch: 5; Training Loss: 13.832806587219238; Validation Loss: 3.4004318714141846\n"
     ]
    },
    {
     "name": "stderr",
     "output_type": "stream",
     "text": [
      "100%|██████████| 1250/1250 [01:36<00:00, 13.01it/s]\n",
      "100%|██████████| 313/313 [00:07<00:00, 44.43it/s]\n"
     ]
    },
    {
     "name": "stdout",
     "output_type": "stream",
     "text": [
      "Epoch: 6; Training Loss: 13.210783004760742; Validation Loss: 3.3087611198425293\n"
     ]
    },
    {
     "name": "stderr",
     "output_type": "stream",
     "text": [
      "100%|██████████| 1250/1250 [01:35<00:00, 13.06it/s]\n",
      "100%|██████████| 313/313 [00:07<00:00, 39.86it/s]\n"
     ]
    },
    {
     "name": "stdout",
     "output_type": "stream",
     "text": [
      "Epoch: 7; Training Loss: 12.741700172424316; Validation Loss: 3.191237688064575\n"
     ]
    },
    {
     "name": "stderr",
     "output_type": "stream",
     "text": [
      "100%|██████████| 1250/1250 [01:31<00:00, 13.73it/s]\n",
      "100%|██████████| 313/313 [00:07<00:00, 43.29it/s]\n"
     ]
    },
    {
     "name": "stdout",
     "output_type": "stream",
     "text": [
      "Epoch: 8; Training Loss: 12.28451156616211; Validation Loss: 3.114274740219116\n"
     ]
    },
    {
     "name": "stderr",
     "output_type": "stream",
     "text": [
      "100%|██████████| 1250/1250 [01:38<00:00, 12.72it/s]\n",
      "100%|██████████| 313/313 [00:07<00:00, 40.79it/s]\n"
     ]
    },
    {
     "name": "stdout",
     "output_type": "stream",
     "text": [
      "Epoch: 9; Training Loss: 11.884577751159668; Validation Loss: 3.020245313644409\n"
     ]
    },
    {
     "name": "stderr",
     "output_type": "stream",
     "text": [
      "100%|██████████| 1250/1250 [00:23<00:00, 54.31it/s]\n",
      "100%|██████████| 313/313 [00:05<00:00, 55.49it/s]\n"
     ]
    },
    {
     "name": "stdout",
     "output_type": "stream",
     "text": [
      "Epoch: 0; Training Loss: 2130.181884765625; Validation Loss: 480.3256530761719\n"
     ]
    },
    {
     "name": "stderr",
     "output_type": "stream",
     "text": [
      "100%|██████████| 1250/1250 [00:23<00:00, 54.06it/s]\n",
      "100%|██████████| 313/313 [00:05<00:00, 57.71it/s]\n"
     ]
    },
    {
     "name": "stdout",
     "output_type": "stream",
     "text": [
      "Epoch: 1; Training Loss: 1837.8695068359375; Validation Loss: 451.9325256347656\n"
     ]
    },
    {
     "name": "stderr",
     "output_type": "stream",
     "text": [
      "100%|██████████| 1250/1250 [00:22<00:00, 55.26it/s]\n",
      "100%|██████████| 313/313 [00:05<00:00, 57.99it/s]\n"
     ]
    },
    {
     "name": "stdout",
     "output_type": "stream",
     "text": [
      "Epoch: 2; Training Loss: 1730.6031494140625; Validation Loss: 439.5067138671875\n"
     ]
    },
    {
     "name": "stderr",
     "output_type": "stream",
     "text": [
      "100%|██████████| 1250/1250 [00:22<00:00, 55.53it/s]\n",
      "100%|██████████| 313/313 [00:05<00:00, 60.72it/s]\n"
     ]
    },
    {
     "name": "stdout",
     "output_type": "stream",
     "text": [
      "Epoch: 3; Training Loss: 1663.0380859375; Validation Loss: 433.0455627441406\n"
     ]
    },
    {
     "name": "stderr",
     "output_type": "stream",
     "text": [
      "100%|██████████| 1250/1250 [00:21<00:00, 58.00it/s]\n",
      "100%|██████████| 313/313 [00:05<00:00, 56.51it/s]\n"
     ]
    },
    {
     "name": "stdout",
     "output_type": "stream",
     "text": [
      "Epoch: 4; Training Loss: 1614.4852294921875; Validation Loss: 429.3663635253906\n"
     ]
    },
    {
     "name": "stderr",
     "output_type": "stream",
     "text": [
      "100%|██████████| 1250/1250 [00:22<00:00, 56.46it/s]\n",
      "100%|██████████| 313/313 [00:05<00:00, 57.45it/s]\n"
     ]
    },
    {
     "name": "stdout",
     "output_type": "stream",
     "text": [
      "Epoch: 5; Training Loss: 1577.3048095703125; Validation Loss: 427.2452087402344\n"
     ]
    },
    {
     "name": "stderr",
     "output_type": "stream",
     "text": [
      "100%|██████████| 1250/1250 [00:20<00:00, 62.39it/s]\n",
      "100%|██████████| 313/313 [00:04<00:00, 63.51it/s]\n"
     ]
    },
    {
     "name": "stdout",
     "output_type": "stream",
     "text": [
      "Epoch: 6; Training Loss: 1547.1434326171875; Validation Loss: 426.3221130371094\n"
     ]
    },
    {
     "name": "stderr",
     "output_type": "stream",
     "text": [
      "100%|██████████| 1250/1250 [00:20<00:00, 61.63it/s]\n",
      "100%|██████████| 313/313 [00:04<00:00, 64.10it/s]\n"
     ]
    },
    {
     "name": "stdout",
     "output_type": "stream",
     "text": [
      "Epoch: 7; Training Loss: 1522.1365966796875; Validation Loss: 425.8262634277344\n"
     ]
    },
    {
     "name": "stderr",
     "output_type": "stream",
     "text": [
      "100%|██████████| 1250/1250 [00:20<00:00, 59.73it/s]\n",
      "100%|██████████| 313/313 [00:05<00:00, 58.86it/s]\n"
     ]
    },
    {
     "name": "stdout",
     "output_type": "stream",
     "text": [
      "Epoch: 8; Training Loss: 1500.6058349609375; Validation Loss: 426.16912841796875\n"
     ]
    },
    {
     "name": "stderr",
     "output_type": "stream",
     "text": [
      "100%|██████████| 1250/1250 [00:21<00:00, 58.28it/s]\n",
      "100%|██████████| 313/313 [00:05<00:00, 59.12it/s]\n"
     ]
    },
    {
     "name": "stdout",
     "output_type": "stream",
     "text": [
      "Epoch: 9; Training Loss: 1481.9964599609375; Validation Loss: 426.7102355957031\n"
     ]
    },
    {
     "name": "stderr",
     "output_type": "stream",
     "text": [
      "100%|██████████| 313/313 [00:05<00:00, 56.49it/s]\n"
     ]
    },
    {
     "name": "stdout",
     "output_type": "stream",
     "text": [
      "Accuracy : 52.53\n",
      "Mean Accuracy : 52.727999999999994\n",
      "Best Accuracy : 53.03 at 1 fold\n",
      "\n"
     ]
    }
   ],
   "source": [
    "embed_sizes = [128]\n",
    "# sampling_strategies = [\"MAP\", \"Sampling\"]\n",
    "sampling_strategies = [\"Sampling\"]\n",
    "# model_types = [\"MMD\", \"VAE\"]\n",
    "model_types = [\"MMD\"]\n",
    "\n",
    "for model_type in model_types:\n",
    "    for sampling_strategy in sampling_strategies:\n",
    "        accuracies = []\n",
    "        best_accuracies = []\n",
    "        for embed_size in embed_sizes:\n",
    "            k_folds = 5\n",
    "            kf = KFold(n_splits=k_folds, shuffle=True)\n",
    "            test_loader = DataLoader(test_dataset, shuffle=False, batch_size = batch_size)\n",
    "            accuracy = []\n",
    "\n",
    "            for fold, (train_idx, val_idx) in enumerate(kf.split(training_dataset)):\n",
    "                print(f\"Fold {fold + 1}\")\n",
    "                print(\"-------\")\n",
    "\n",
    "                # Define the data loaders for the current fold\n",
    "                train_loader = DataLoader(\n",
    "                    dataset=torch.utils.data.Subset(training_dataset, train_idx),\n",
    "                    batch_size=batch_size\n",
    "                )\n",
    "                val_loader = DataLoader(\n",
    "                    dataset=torch.utils.data.Subset(training_dataset, val_idx),\n",
    "                    batch_size=batch_size,\n",
    "                )\n",
    "\n",
    "                # Train VAE Network\n",
    "                trainer = Trainer(\n",
    "                    train_loader=train_loader,\n",
    "                    val_loader=val_loader,\n",
    "                    sampling_strategy=sampling_strategy,\n",
    "                    model_type=model_type,\n",
    "                    num_samples=num_samples,\n",
    "                    epochs=epochs,\n",
    "                    patience=patience,\n",
    "                    delta=delta,\n",
    "                    batch_size=batch_size,\n",
    "                    embed_size=embed_size,\n",
    "                    input_channels=input_channels,\n",
    "                    input_dim=input_dim\n",
    "                )\n",
    "                trainer.training(fold)\n",
    "\n",
    "                # Load the trained VAE Network\n",
    "                model = Model(z_dim=embed_size, strategy=sampling_strategy, input_channels=input_channels, input_dim=input_dim).to(DEVICE)\n",
    "                model.load_state_dict(torch.load(f\"./weights/VAE/VAE_{fold}_weights.pt\"))\n",
    "\n",
    "                # Train Classifier Network\n",
    "                classifier = Classifier(\n",
    "                    model=model,\n",
    "                    train_loader=train_loader,\n",
    "                    val_loader=val_loader,\n",
    "                    test_loader=test_loader,\n",
    "                    epochs=epochs,\n",
    "                    num_classes=num_classes,\n",
    "                    embed_size=embed_size,\n",
    "                    delta=delta,\n",
    "                    patience=patience\n",
    "                )\n",
    "                classifier.training(fold)\n",
    "                accuracy.append(classifier.predict(fold))\n",
    "\n",
    "            accuracies.append(np.mean(accuracy))\n",
    "            best_accuracies.append(np.max(accuracy))\n",
    "\n",
    "            print(f\"Mean Accuracy : {np.mean(accuracy)}\")\n",
    "            print(f\"Best Accuracy : {np.max(accuracy)} at {np.argmax(accuracy)} fold\")\n",
    "            print()\n",
    "        \n",
    "        df = pd.DataFrame(list(zip(*[embed_sizes, accuracies, best_accuracies])), columns=[\"Embedding Dimension\", \"Mean Accuracy\", \"Best Accuracy\"])\n",
    "        df.to_csv(f\"./results/CIFAR10_{model_type}_{sampling_strategy}.csv\")\n"
   ]
  },
  {
   "cell_type": "markdown",
   "metadata": {},
   "source": [
    "## **Plot Latent Space**"
   ]
  },
  {
   "cell_type": "code",
   "execution_count": 66,
   "metadata": {},
   "outputs": [
    {
     "name": "stderr",
     "output_type": "stream",
     "text": [
      "313it [00:05, 55.90it/s]\n"
     ]
    },
    {
     "data": {
      "image/png": "[encoded data removed]",
      "text/plain": [
       "<Figure size 640x480 with 1 Axes>"
      ]
     },
     "metadata": {},
     "output_type": "display_data"
    }
   ],
   "source": [
    "# Load Models\n",
    "# make latex plot font\n",
    "plt.rcParams.update({\n",
    "    \"text.usetex\": True,\n",
    "    \"font.family\": \"serif\",\n",
    "    \"font.serif\": [\"Computer Modern\"],\n",
    "    \"font.size\": 12\n",
    "})\n",
    "\n",
    "pca = PCA(n_components=2)\n",
    "best_fold = np.argmax(accuracy)\n",
    "model = Model(z_dim=embed_size, strategy=sampling_strategy, input_channels=input_channels, input_dim=input_dim).to(DEVICE)\n",
    "model.load_state_dict(torch.load(f\"./weights/VAE/VAE_{1}_weights.pt\"))\n",
    "\n",
    "# Label, Embedding Matrices\n",
    "size = len(test_dataset)\n",
    "embedding = torch.zeros((size, embed_size))\n",
    "y = torch.zeros(size)\n",
    "\n",
    "with torch.no_grad():\n",
    "  for i, (image, label) in tqdm(enumerate(test_loader)):\n",
    "    # image = image.squeeze()\n",
    "    image = image.to(DEVICE)\n",
    "    label = label.to(torch.int32).to(DEVICE)\n",
    "\n",
    "    z, _, _, _ = model.forward(image)\n",
    "    embedding[i*batch_size:min((i+1)*batch_size, size)] = z\n",
    "    y[i*batch_size:min((i+1)*batch_size, size)] = label\n",
    "\n",
    "if embed_size != 2:\n",
    "  embedding = pca.fit_transform(embedding)\n",
    "\n",
    "colors = ['red','green','blue','orange','purple','brown','pink','gray','olive','cyan']\n",
    "colours = ListedColormap(colors)\n",
    "scatter = plt.scatter(embedding[:,0], embedding[:,1], c=y, cmap=colours)\n",
    "plt.legend(*scatter.legend_elements())\n",
    "plt.savefig(\"./latent.png\", format=\"png\")"
   ]
  },
  {
   "cell_type": "code",
   "execution_count": 65,
   "metadata": {},
   "outputs": [
    {
     "name": "stderr",
     "output_type": "stream",
     "text": [
      "  0%|          | 0/313 [00:00<?, ?it/s]/home/pulkit/anaconda3/envs/flow-VAE/lib/python3.7/site-packages/ipykernel_launcher.py:15: UserWarning: Implicit dimension choice for softmax has been deprecated. Change the call to include dim=X as an argument.\n",
      "  from ipykernel import kernelapp as app\n",
      "100%|██████████| 313/313 [00:05<00:00, 52.76it/s]"
     ]
    },
    {
     "name": "stdout",
     "output_type": "stream",
     "text": [
      "\n",
      "Accuracy : 53.04\n"
     ]
    },
    {
     "name": "stderr",
     "output_type": "stream",
     "text": [
      "\n"
     ]
    }
   ],
   "source": [
    "model.load_state_dict(torch.load(f\"./weights/VAE/VAE_{best_fold}_weights.pt\"))\n",
    "classifier_network = FeedForwardClassifier(output_dim=num_classes, embed_size=embed_size).to(DEVICE)\n",
    "classifier_network.load_state_dict(torch.load(f\"./weights/classifier/classifier_{best_fold}_weights.pt\"))\n",
    "\n",
    "model.eval()\n",
    "classifier_network.eval()\n",
    "\n",
    "correct = 0\n",
    "with torch.no_grad():\n",
    "  for image, label in tqdm(test_loader):\n",
    "    image = image.to(DEVICE)\n",
    "    label = label.to(torch.int32).to(DEVICE)\n",
    "\n",
    "    embedding, _, _, _ = model.forward(image)\n",
    "    prediction = classifier_network.predict(embedding).to(torch.int32)\n",
    "\n",
    "    correct += int(sum(prediction==label))\n",
    "print()\n",
    "print(f\"Accuracy : {100*correct/len(test_loader.dataset):.2f}\")"
   ]
  }
 ],
 "metadata": {
  "kernelspec": {
   "display_name": "Python 3",
   "language": "python",
   "name": "python3"
  },
  "language_info": {
   "codemirror_mode": {
    "name": "ipython",
    "version": 3
   },
   "file_extension": ".py",
   "mimetype": "text/x-python",
   "name": "python",
   "nbconvert_exporter": "python",
   "pygments_lexer": "ipython3",
   "version": "3.7.2"
  }
 },
 "nbformat": 4,
 "nbformat_minor": 2
}
