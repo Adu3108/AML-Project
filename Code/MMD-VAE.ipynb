{
 "cells": [
  {
   "cell_type": "code",
   "execution_count": 1,
   "metadata": {},
   "outputs": [
    {
     "name": "stderr",
     "output_type": "stream",
     "text": [
      "/users/ug20/advaitp/.local/lib/python3.9/site-packages/tqdm/auto.py:21: TqdmWarning: IProgress not found. Please update jupyter and ipywidgets. See https://ipywidgets.readthedocs.io/en/stable/user_install.html\n",
      "  from .autonotebook import tqdm as notebook_tqdm\n"
     ]
    }
   ],
   "source": [
    "import torchvision.datasets as datasets\n",
    "from torchvision import transforms\n",
    "import torch\n",
    "from torch.utils.data import DataLoader\n",
    "from tqdm import tqdm\n",
    "from sklearn.decomposition import PCA\n",
    "import matplotlib.pyplot as plt\n",
    "from matplotlib.colors import ListedColormap\n",
    "from sklearn.model_selection import KFold\n",
    "import numpy as np\n",
    "import pandas as pd"
   ]
  },
  {
   "cell_type": "code",
   "execution_count": 2,
   "metadata": {},
   "outputs": [
    {
     "name": "stdout",
     "output_type": "stream",
     "text": [
      "Downloading http://fashion-mnist.s3-website.eu-central-1.amazonaws.com/train-images-idx3-ubyte.gz\n",
      "Downloading http://fashion-mnist.s3-website.eu-central-1.amazonaws.com/train-images-idx3-ubyte.gz to data/FashionMNIST/FashionMNIST/raw/train-images-idx3-ubyte.gz\n"
     ]
    },
    {
     "name": "stderr",
     "output_type": "stream",
     "text": [
      "100%|██████████| 26421880/26421880 [00:01<00:00, 14035655.71it/s]\n"
     ]
    },
    {
     "name": "stdout",
     "output_type": "stream",
     "text": [
      "Extracting data/FashionMNIST/FashionMNIST/raw/train-images-idx3-ubyte.gz to data/FashionMNIST/FashionMNIST/raw\n",
      "\n",
      "Downloading http://fashion-mnist.s3-website.eu-central-1.amazonaws.com/train-labels-idx1-ubyte.gz\n",
      "Downloading http://fashion-mnist.s3-website.eu-central-1.amazonaws.com/train-labels-idx1-ubyte.gz to data/FashionMNIST/FashionMNIST/raw/train-labels-idx1-ubyte.gz\n"
     ]
    },
    {
     "name": "stderr",
     "output_type": "stream",
     "text": [
      "100%|██████████| 29515/29515 [00:00<00:00, 220283.43it/s]\n"
     ]
    },
    {
     "name": "stdout",
     "output_type": "stream",
     "text": [
      "Extracting data/FashionMNIST/FashionMNIST/raw/train-labels-idx1-ubyte.gz to data/FashionMNIST/FashionMNIST/raw\n",
      "\n",
      "Downloading http://fashion-mnist.s3-website.eu-central-1.amazonaws.com/t10k-images-idx3-ubyte.gz\n",
      "Downloading http://fashion-mnist.s3-website.eu-central-1.amazonaws.com/t10k-images-idx3-ubyte.gz to data/FashionMNIST/FashionMNIST/raw/t10k-images-idx3-ubyte.gz\n"
     ]
    },
    {
     "name": "stderr",
     "output_type": "stream",
     "text": [
      "100%|██████████| 4422102/4422102 [00:01<00:00, 4249887.63it/s]\n"
     ]
    },
    {
     "name": "stdout",
     "output_type": "stream",
     "text": [
      "Extracting data/FashionMNIST/FashionMNIST/raw/t10k-images-idx3-ubyte.gz to data/FashionMNIST/FashionMNIST/raw\n",
      "\n",
      "Downloading http://fashion-mnist.s3-website.eu-central-1.amazonaws.com/t10k-labels-idx1-ubyte.gz\n",
      "Downloading http://fashion-mnist.s3-website.eu-central-1.amazonaws.com/t10k-labels-idx1-ubyte.gz to data/FashionMNIST/FashionMNIST/raw/t10k-labels-idx1-ubyte.gz\n"
     ]
    },
    {
     "name": "stderr",
     "output_type": "stream",
     "text": [
      "100%|██████████| 5148/5148 [00:00<00:00, 15500557.78it/s]"
     ]
    },
    {
     "name": "stdout",
     "output_type": "stream",
     "text": [
      "Extracting data/FashionMNIST/FashionMNIST/raw/t10k-labels-idx1-ubyte.gz to data/FashionMNIST/FashionMNIST/raw\n",
      "\n"
     ]
    },
    {
     "name": "stderr",
     "output_type": "stream",
     "text": [
      "\n"
     ]
    }
   ],
   "source": [
    "# training_dataset = datasets.MNIST(root=\"data\", train=True, download=True, transform=transforms.ToTensor())\n",
    "# test_dataset = datasets.MNIST(root=\"data\", train=False, download=True, transform=transforms.ToTensor())\n",
    "\n",
    "# training_dataset = datasets.CIFAR10(root=\"data/CIFAR10\", train=True, download=True, transform=transforms.ToTensor())\n",
    "# test_dataset = datasets.CIFAR10(root=\"data/CIFAR10\", train=False, download=True, transform=transforms.ToTensor())\n",
    "\n",
    "training_dataset = datasets.FashionMNIST(root=\"data/FashionMNIST\", train=True, download=True, transform=transforms.ToTensor())\n",
    "test_dataset = datasets.FashionMNIST(root=\"data/FashionMNIST\", train=False, download=True, transform=transforms.ToTensor())"
   ]
  },
  {
   "cell_type": "code",
   "execution_count": 3,
   "metadata": {},
   "outputs": [],
   "source": [
    "image_shape = training_dataset.data[0].shape\n",
    "if len(image_shape)==2:\n",
    "  input_channels = 1\n",
    "  input_dim = tuple(image_shape)\n",
    "else:\n",
    "  input_channels = image_shape[2]\n",
    "  input_dim = tuple(image_shape[:-1])"
   ]
  },
  {
   "cell_type": "code",
   "execution_count": 4,
   "metadata": {},
   "outputs": [],
   "source": [
    "class Flatten(torch.nn.Module):\n",
    "    def forward(self, x):\n",
    "        return x.view(x.size(0), -1)\n",
    "    \n",
    "class Reshape(torch.nn.Module):\n",
    "    def __init__(self, outer_shape):\n",
    "        super(Reshape, self).__init__()\n",
    "        self.outer_shape = outer_shape\n",
    "    def forward(self, x):\n",
    "        return x.view(x.size(0), *self.outer_shape)"
   ]
  },
  {
   "cell_type": "code",
   "execution_count": 5,
   "metadata": {},
   "outputs": [],
   "source": [
    "class FeedForwardClassifier(torch.nn.Module):\n",
    "    def __init__(self, output_dim, embed_size) -> None:\n",
    "        super().__init__()\n",
    "        self.fc1 = torch.nn.Linear(embed_size, 250)\n",
    "        self.fc2 = torch.nn.Linear(250, output_dim)\n",
    "\n",
    "    def forward(self, embedding):\n",
    "        x = embedding.squeeze()\n",
    "        x = torch.nn.ReLU()(self.fc1(x))\n",
    "        output = self.fc2(x)\n",
    "        return output\n",
    "\n",
    "    def predict(self, embedding):\n",
    "        logits = self.forward(embedding)\n",
    "        probabilities = torch.nn.Softmax()(logits)\n",
    "        return torch.argmax(probabilities, dim=1)"
   ]
  },
  {
   "cell_type": "code",
   "execution_count": 6,
   "metadata": {},
   "outputs": [],
   "source": [
    "# Encoder and decoder use the DC-GAN architecture\n",
    "class Encoder(torch.nn.Module):\n",
    "    def __init__(self, z_dim, input_channels, input_dim):\n",
    "        super(Encoder, self).__init__()\n",
    "        self.input_channels = input_channels\n",
    "        self.height, self.width = input_dim\n",
    "        self.layer_height, self.layer_width = self.get_layer_size(2)\n",
    "        self.model = torch.nn.ModuleList([\n",
    "            torch.nn.Conv2d(\n",
    "                in_channels=input_channels, \n",
    "                out_channels=64, \n",
    "                kernel_size=4, \n",
    "                stride=2, \n",
    "                padding=1\n",
    "            ),\n",
    "            torch.nn.LeakyReLU(),\n",
    "            torch.nn.Conv2d(\n",
    "                in_channels=64, \n",
    "                out_channels=128, \n",
    "                kernel_size=4, \n",
    "                stride=2, \n",
    "                padding=1\n",
    "            ),\n",
    "            torch.nn.LeakyReLU(),\n",
    "            Flatten(),\n",
    "            torch.nn.Linear(128*self.layer_height*self.layer_width, 1024),\n",
    "            torch.nn.LeakyReLU(),\n",
    "        ])\n",
    "        self.dense_mu = torch.nn.Linear(1024, z_dim)\n",
    "        self.dense_logvar = torch.nn.Linear(1024, z_dim)\n",
    "        \n",
    "    def get_layer_size(self, layer_num):\n",
    "        h = self.height\n",
    "        w = self.width\n",
    "        for _ in range(layer_num):\n",
    "            h = int(h/2)\n",
    "            w = int(w/2)\n",
    "        return h, w\n",
    "    \n",
    "    def forward(self, x):\n",
    "        for layer in self.model:\n",
    "            x = layer(x)\n",
    "        mu = self.dense_mu(x)\n",
    "        logvar = self.dense_logvar(x)\n",
    "        return mu, logvar\n",
    "    \n",
    "    \n",
    "class Decoder(torch.nn.Module):\n",
    "    def __init__(self, z_dim, input_channels, input_dim):\n",
    "        super(Decoder, self).__init__()\n",
    "        self.input_channels = input_channels\n",
    "        self.height, self.width = input_dim\n",
    "        self.layer_height, self.layer_width = self.get_layer_size(2)\n",
    "        self.model = torch.nn.ModuleList([\n",
    "            torch.nn.Linear(z_dim, 1024),\n",
    "            torch.nn.ReLU(),\n",
    "            torch.nn.Linear(1024, self.layer_height*self.layer_width*128),\n",
    "            torch.nn.ReLU(),\n",
    "            Reshape((128,self.layer_height,self.layer_width,)),\n",
    "            torch.nn.ConvTranspose2d(128, 64, 4, 2, padding=1),\n",
    "            torch.nn.ReLU(),\n",
    "            torch.nn.ConvTranspose2d(64, input_channels, 4, 2, padding=1),\n",
    "            torch.nn.Sigmoid()\n",
    "        ])\n",
    "\n",
    "    def get_layer_size(self, layer_num):\n",
    "        h = self.height\n",
    "        w = self.width\n",
    "        for _ in range(layer_num):\n",
    "            h = int(h/2)\n",
    "            w = int(w/2)\n",
    "        return h, w\n",
    "        \n",
    "    def forward(self, x):\n",
    "        for layer in self.model:\n",
    "            x = layer(x)\n",
    "        return x\n",
    "    \n",
    "class Model(torch.nn.Module):\n",
    "    def __init__(self, z_dim, strategy, input_channels, input_dim):\n",
    "        super(Model, self).__init__()\n",
    "        self.encoder = Encoder(z_dim, input_channels, input_dim)\n",
    "        self.decoder = Decoder(z_dim, input_channels, input_dim)\n",
    "        self.strategy = strategy\n",
    "        \n",
    "    def forward(self, x):\n",
    "        mu, logvar = self.encoder(x)\n",
    "        std = torch.exp(logvar / 2)\n",
    "        eps = torch.randn_like(std)\n",
    "\n",
    "        if self.strategy==\"Sampling\":\n",
    "            z = mu + eps * std\n",
    "        elif self.strategy==\"MAP\":\n",
    "            z = mu\n",
    "\n",
    "        x_reconstructed = self.decoder(z)\n",
    "        return z, x_reconstructed, mu, logvar"
   ]
  },
  {
   "cell_type": "code",
   "execution_count": 8,
   "metadata": {},
   "outputs": [],
   "source": [
    "class Trainer:\n",
    "    def __init__(self, train_loader, val_loader, model_type, sampling_strategy, num_samples, epochs, patience, delta, batch_size, embed_size, input_channels, input_dim):\n",
    "        # Hyperparameters\n",
    "        self.embed_size = embed_size\n",
    "        self.input_channels = input_channels\n",
    "        self.input_dim = input_dim\n",
    "        self.batch_size = batch_size\n",
    "        self.num_samples = num_samples\n",
    "        self.epochs = epochs\n",
    "        self.patience = patience\n",
    "        self.delta = delta\n",
    "\n",
    "        # Dataloader\n",
    "        self.train_loader = train_loader\n",
    "        self.val_loader = val_loader\n",
    "\n",
    "        self.best_score = None\n",
    "        self.num_bad_epochs = 0\n",
    "        self.DEVICE = \"cuda\" if torch.cuda.is_available() else \"cpu\"\n",
    "\n",
    "        assert model_type==\"VAE\" or model_type==\"MMD\"\n",
    "        self.model_type = model_type\n",
    "    \n",
    "        assert sampling_strategy==\"Sampling\" or sampling_strategy==\"MAP\"\n",
    "        self.sampling_strategy = sampling_strategy\n",
    "\n",
    "        # Model\n",
    "        self.model = Model(z_dim=self.embed_size, strategy=self.sampling_strategy, input_channels=self.input_channels, input_dim=self.input_dim).to(self.DEVICE)\n",
    "\n",
    "    def compute_kernel(self, x, y):\n",
    "        x_size = x.size(0)\n",
    "        y_size = y.size(0)\n",
    "        dim = x.size(1)\n",
    "        x = x.unsqueeze(1) # (x_size, 1, dim)\n",
    "        y = y.unsqueeze(0) # (1, y_size, dim)\n",
    "        tiled_x = x.expand(x_size, y_size, dim)\n",
    "        tiled_y = y.expand(x_size, y_size, dim)\n",
    "        kernel_input = (tiled_x - tiled_y).pow(2).mean(2)/float(dim)\n",
    "        return torch.exp(-kernel_input) # (x_size, y_size\n",
    "\n",
    "    def compute_mmd(self, x, y):\n",
    "        x_kernel = self.compute_kernel(x, x)\n",
    "        y_kernel = self.compute_kernel(y, y)\n",
    "        xy_kernel = self.compute_kernel(x, y)\n",
    "        mmd = x_kernel.mean() + y_kernel.mean() - 2*xy_kernel.mean()\n",
    "        return mmd\n",
    "    \n",
    "    def early_stopping(self, fold):\n",
    "        # Validation Loop\n",
    "        val_loss = 0\n",
    "        with torch.no_grad():\n",
    "            for image, label in tqdm(self.val_loader):\n",
    "                image = image.to(self.DEVICE)\n",
    "                label = label.type(torch.LongTensor).to(self.DEVICE)\n",
    "\n",
    "                true_samples =  torch.randn(self.num_samples, self.embed_size).to(self.DEVICE)\n",
    "                embedding, out, mu, logvar = self.model.forward(image)\n",
    "\n",
    "                mse_val_loss = torch.nn.functional.mse_loss(out, image)\n",
    "                kl_val_loss = torch.mul(input=torch.sum(mu.pow(2) + logvar.exp() - logvar - 1), other=0.5)\n",
    "                mmd_val_loss = self.compute_mmd(true_samples, embedding)\n",
    "\n",
    "                if self.model_type==\"VAE\":\n",
    "                    val_loss += (mse_val_loss + kl_val_loss)\n",
    "                elif self.model_type==\"MMD\":\n",
    "                    val_loss += (mse_val_loss + mmd_val_loss)\n",
    "        \n",
    "        # Early Stopping Condition\n",
    "        if self.best_score == None:\n",
    "            self.best_score = val_loss\n",
    "            model_state_dict = self.model.state_dict()\n",
    "            torch.save(model_state_dict, f\"./weights/VAE/VAE_{fold}_weights.pt\")\n",
    "        elif self.best_score-val_loss>self.delta:\n",
    "            self.best_score = val_loss\n",
    "            model_state_dict = self.model.state_dict()\n",
    "            self.num_bad_epochs = 0\n",
    "            torch.save(model_state_dict, f\"./weights/VAE/VAE_{fold}_weights.pt\")\n",
    "        else:\n",
    "            self.num_bad_epochs += 1\n",
    "        \n",
    "        if self.num_bad_epochs==self.patience:\n",
    "            return True, val_loss\n",
    "        else:\n",
    "            return False, val_loss\n",
    "        \n",
    "    def training(self, fold):\n",
    "        self.optimizer = torch.optim.Adam(self.model.parameters())\n",
    "        self.model.train()\n",
    "\n",
    "        for epoch in range(self.epochs):\n",
    "            # Training Loop\n",
    "            epoch_loss = 0\n",
    "            for image, label in tqdm(self.train_loader):\n",
    "                self.optimizer.zero_grad()\n",
    "                image = image.to(self.DEVICE)\n",
    "                label = label.type(torch.LongTensor).to(self.DEVICE)\n",
    "\n",
    "                # Passing the input image through VAE\n",
    "                embedding, out, mu, logvar = self.model.forward(image)\n",
    "\n",
    "                # Mean Square Error Loss (Reconstruction loss in VAE Loss function)\n",
    "                mse_loss = torch.nn.functional.mse_loss(out, image)\n",
    "\n",
    "                # Maximum Mean Discrepancy\n",
    "                true_samples =  torch.randn(self.num_samples, self.embed_size).to(self.DEVICE)\n",
    "                mmd = self.compute_mmd(true_samples, embedding)\n",
    "\n",
    "                # KL-Divergence Loss (Regularization loss in VAE Loss function)\n",
    "                kl_loss = torch.mul(input=torch.sum(mu.pow(2) + logvar.exp() - logvar - 1), other=0.5)\n",
    "\n",
    "                # Total Loss Function\n",
    "                if self.model_type==\"VAE\":\n",
    "                    loss = mse_loss + kl_loss       # Reconstruction Loss + Regularization Loss\n",
    "                elif self.model_type==\"MMD\":\n",
    "                    loss = mse_loss + mmd           # Reconstruction Loss + Maximum Mean Discrepancy\n",
    "\n",
    "                loss.backward() # Perform Back-Propogation\n",
    "                self.optimizer.step() # Performs a single optimization step (parameter update)\n",
    "                epoch_loss += loss\n",
    "                del loss, out\n",
    "                \n",
    "            early_stopping, val_loss = self.early_stopping(fold)\n",
    "            print(f'Epoch: {epoch}; Training Loss: {epoch_loss}; Validation Loss: {val_loss}')\n",
    "            \n",
    "            if early_stopping:\n",
    "                print(f'Early Stopping at epoch {epoch}')\n",
    "                break\n"
   ]
  },
  {
   "cell_type": "code",
   "execution_count": 9,
   "metadata": {},
   "outputs": [],
   "source": [
    "class Classifier:\n",
    "    def __init__(self, model, train_loader, val_loader, test_loader, epochs, num_classes, embed_size, delta, patience):\n",
    "        self.training_loader = train_loader\n",
    "        self.val_loader = val_loader\n",
    "        self.test_loader = test_loader\n",
    "\n",
    "        self.epochs = epochs\n",
    "        self.num_classes = num_classes\n",
    "        self.embed_size = embed_size\n",
    "        self.delta = delta\n",
    "        self.patience = patience\n",
    "        self.DEVICE = \"cuda\" if torch.cuda.is_available() else \"cpu\"\n",
    "\n",
    "        self.model = model\n",
    "        self.classifier = FeedForwardClassifier(output_dim=self.num_classes, embed_size=self.embed_size).to(self.DEVICE)\n",
    "\n",
    "    def early_stopping(self, fold):\n",
    "        # Validation Loop\n",
    "        val_loss = 0\n",
    "        with torch.no_grad():\n",
    "            for image, label in tqdm(self.val_loader):\n",
    "                image = image.to(self.DEVICE)\n",
    "                label = label.type(torch.LongTensor).to(self.DEVICE)\n",
    "\n",
    "                embedding, _, _, _ = self.model.forward(image)\n",
    "                prediction = self.classifier.forward(embedding)\n",
    "                classification_loss = torch.nn.CrossEntropyLoss()(prediction, label)\n",
    "                val_loss += classification_loss\n",
    "        \n",
    "        # Early Stopping\n",
    "        if self.best_score == None:\n",
    "            self.best_score = val_loss\n",
    "            classifier_state_dict = self.classifier.state_dict()\n",
    "            torch.save(classifier_state_dict, f\"./weights/classifier/classifier_{fold}_weights.pt\")\n",
    "        elif self.best_score-val_loss>self.delta:\n",
    "            self.best_score = val_loss\n",
    "            classifier_state_dict = self.classifier.state_dict()\n",
    "            self.num_bad_epochs = 0\n",
    "            torch.save(classifier_state_dict, f\"./weights/classifier/classifier_{fold}_weights.pt\")\n",
    "        else:\n",
    "            self.num_bad_epochs += 1\n",
    "        \n",
    "        if self.num_bad_epochs==self.patience:\n",
    "            return True, val_loss\n",
    "        else:\n",
    "            return False, val_loss\n",
    "\n",
    "    def training(self, fold):\n",
    "        self.optimizer = torch.optim.Adam(self.classifier.parameters())\n",
    "        self.best_score = None\n",
    "        self.num_bad_epochs = 0\n",
    "        \n",
    "        for epoch in range(self.epochs):\n",
    "            # Training Loop\n",
    "            epoch_loss = 0\n",
    "            for image, label in tqdm(self.training_loader):\n",
    "                self.optimizer.zero_grad()\n",
    "                image = image.to(self.DEVICE)\n",
    "                label = label.type(torch.LongTensor).to(self.DEVICE)\n",
    "\n",
    "                with torch.no_grad():\n",
    "                    # Passing the input image through VAE\n",
    "                    embedding, _, _, _ = self.model.forward(image)\n",
    "\n",
    "                # Passing the latent representation through Classifier\n",
    "                prediction = self.classifier.forward(embedding)\n",
    "                loss = torch.nn.CrossEntropyLoss()(prediction, label)\n",
    "\n",
    "                loss.backward() # Perform Back-Propogation\n",
    "                self.optimizer.step() # Performs a single optimization step (parameter update)\n",
    "                epoch_loss += loss\n",
    "                del loss\n",
    "            \n",
    "            early_stopping, val_loss = self.early_stopping(fold)\n",
    "            print(f'Epoch: {epoch}; Training Loss: {epoch_loss}; Validation Loss: {val_loss}')\n",
    "            \n",
    "            if early_stopping:\n",
    "                print(f'Early Stopping at epoch {epoch}')\n",
    "                break\n",
    "\n",
    "    def predict(self, fold):\n",
    "        self.model.load_state_dict(torch.load(f\"./weights/VAE/VAE_{fold}_weights.pt\"))\n",
    "\n",
    "        classifier_network = FeedForwardClassifier(output_dim=self.num_classes, embed_size=self.embed_size).to(self.DEVICE)\n",
    "        classifier_network.load_state_dict(torch.load(f\"./weights/classifier/classifier_{fold}_weights.pt\"))\n",
    "\n",
    "        self.model.eval()\n",
    "        classifier_network.eval()\n",
    "\n",
    "        correct = 0\n",
    "        with torch.no_grad():\n",
    "            for image, label in tqdm(self.test_loader):\n",
    "                image = image.to(self.DEVICE)\n",
    "                label = label.to(torch.int32).to(self.DEVICE)\n",
    "\n",
    "                embedding, _, _, _ = self.model.forward(image)\n",
    "                prediction = classifier_network.predict(embedding).to(torch.int32)\n",
    "\n",
    "                correct += int(sum(prediction==label))\n",
    "                \n",
    "        accuracy = 100*correct/len(self.test_loader.dataset)\n",
    "        print(f\"Accuracy : {accuracy:.2f}\")\n",
    "        return accuracy\n",
    "            "
   ]
  },
  {
   "cell_type": "code",
   "execution_count": 10,
   "metadata": {},
   "outputs": [],
   "source": [
    "DEVICE = \"cuda\" if torch.cuda.is_available() else \"cpu\"\n",
    "num_classes = len(training_dataset.classes)\n",
    "# embed_size = 16\n",
    "batch_size = 32\n",
    "num_samples = 200\n",
    "model_epochs = 10\n",
    "classifier_epochs = 20\n",
    "patience = 5\n",
    "delta = 1e-4\n",
    "# sampling_strategy = \"MAP\"\n",
    "# model_type = \"MMD\""
   ]
  },
  {
   "cell_type": "code",
   "execution_count": 10,
   "metadata": {},
   "outputs": [],
   "source": [
    "training_size = int(len(training_dataset)*0.8)\n",
    "val_size = len(training_dataset) - training_size\n",
    "training_data, val_data = torch.utils.data.random_split(training_dataset, [training_size, val_size])\n",
    "\n",
    "training_loader = DataLoader(training_data, shuffle=False, batch_size = batch_size)\n",
    "val_loader = DataLoader(val_data, shuffle=False, batch_size = batch_size)\n",
    "test_loader = DataLoader(test_dataset, shuffle=False, batch_size = batch_size)"
   ]
  },
  {
   "cell_type": "code",
   "execution_count": 11,
   "metadata": {},
   "outputs": [
    {
     "name": "stdout",
     "output_type": "stream",
     "text": [
      "Fold 1\n",
      "-------\n"
     ]
    },
    {
     "name": "stderr",
     "output_type": "stream",
     "text": [
      "100%|██████████| 1500/1500 [00:20<00:00, 71.73it/s]\n",
      "100%|██████████| 375/375 [00:01<00:00, 251.24it/s]\n"
     ]
    },
    {
     "name": "stdout",
     "output_type": "stream",
     "text": [
      "Epoch: 0; Training Loss: 27.29817771911621; Validation Loss: 4.432108402252197\n"
     ]
    },
    {
     "name": "stderr",
     "output_type": "stream",
     "text": [
      "100%|██████████| 1500/1500 [00:18<00:00, 81.45it/s]\n",
      "100%|██████████| 375/375 [00:01<00:00, 248.44it/s]\n"
     ]
    },
    {
     "name": "stdout",
     "output_type": "stream",
     "text": [
      "Epoch: 1; Training Loss: 15.689675331115723; Validation Loss: 3.6182985305786133\n"
     ]
    },
    {
     "name": "stderr",
     "output_type": "stream",
     "text": [
      "100%|██████████| 1500/1500 [00:18<00:00, 81.40it/s]\n",
      "100%|██████████| 375/375 [00:01<00:00, 253.53it/s]\n"
     ]
    },
    {
     "name": "stdout",
     "output_type": "stream",
     "text": [
      "Epoch: 2; Training Loss: 13.350608825683594; Validation Loss: 3.1950526237487793\n"
     ]
    },
    {
     "name": "stderr",
     "output_type": "stream",
     "text": [
      "100%|██████████| 1500/1500 [00:18<00:00, 80.02it/s]\n",
      "100%|██████████| 375/375 [00:01<00:00, 249.75it/s]\n"
     ]
    },
    {
     "name": "stdout",
     "output_type": "stream",
     "text": [
      "Epoch: 3; Training Loss: 12.011186599731445; Validation Loss: 3.0290651321411133\n"
     ]
    },
    {
     "name": "stderr",
     "output_type": "stream",
     "text": [
      "100%|██████████| 1500/1500 [00:17<00:00, 84.36it/s]\n",
      "100%|██████████| 375/375 [00:01<00:00, 251.66it/s]\n"
     ]
    },
    {
     "name": "stdout",
     "output_type": "stream",
     "text": [
      "Epoch: 4; Training Loss: 11.184728622436523; Validation Loss: 2.9505906105041504\n"
     ]
    },
    {
     "name": "stderr",
     "output_type": "stream",
     "text": [
      "100%|██████████| 1500/1500 [00:18<00:00, 81.48it/s]\n",
      "100%|██████████| 375/375 [00:01<00:00, 249.27it/s]\n"
     ]
    },
    {
     "name": "stdout",
     "output_type": "stream",
     "text": [
      "Epoch: 5; Training Loss: 10.534512519836426; Validation Loss: 2.7938954830169678\n"
     ]
    },
    {
     "name": "stderr",
     "output_type": "stream",
     "text": [
      "100%|██████████| 1500/1500 [00:18<00:00, 81.25it/s]\n",
      "100%|██████████| 375/375 [00:01<00:00, 248.98it/s]\n"
     ]
    },
    {
     "name": "stdout",
     "output_type": "stream",
     "text": [
      "Epoch: 6; Training Loss: 9.992925643920898; Validation Loss: 2.6903724670410156\n"
     ]
    },
    {
     "name": "stderr",
     "output_type": "stream",
     "text": [
      "100%|██████████| 1500/1500 [00:18<00:00, 80.32it/s]\n",
      "100%|██████████| 375/375 [00:01<00:00, 248.20it/s]\n"
     ]
    },
    {
     "name": "stdout",
     "output_type": "stream",
     "text": [
      "Epoch: 7; Training Loss: 9.609729766845703; Validation Loss: 2.56156325340271\n"
     ]
    },
    {
     "name": "stderr",
     "output_type": "stream",
     "text": [
      "100%|██████████| 1500/1500 [00:15<00:00, 96.21it/s] \n",
      "100%|██████████| 375/375 [00:01<00:00, 263.12it/s]\n"
     ]
    },
    {
     "name": "stdout",
     "output_type": "stream",
     "text": [
      "Epoch: 8; Training Loss: 9.216927528381348; Validation Loss: 2.5254244804382324\n"
     ]
    },
    {
     "name": "stderr",
     "output_type": "stream",
     "text": [
      "100%|██████████| 1500/1500 [00:16<00:00, 92.44it/s]\n",
      "100%|██████████| 375/375 [00:01<00:00, 250.76it/s]\n"
     ]
    },
    {
     "name": "stdout",
     "output_type": "stream",
     "text": [
      "Epoch: 9; Training Loss: 8.83839225769043; Validation Loss: 2.4709129333496094\n"
     ]
    },
    {
     "name": "stderr",
     "output_type": "stream",
     "text": [
      "100%|██████████| 1500/1500 [00:07<00:00, 206.20it/s]\n",
      "100%|██████████| 375/375 [00:01<00:00, 282.22it/s]\n"
     ]
    },
    {
     "name": "stdout",
     "output_type": "stream",
     "text": [
      "Epoch: 0; Training Loss: 724.6857299804688; Validation Loss: 132.6294403076172\n"
     ]
    },
    {
     "name": "stderr",
     "output_type": "stream",
     "text": [
      "100%|██████████| 1500/1500 [00:07<00:00, 209.45it/s]\n",
      "100%|██████████| 375/375 [00:01<00:00, 287.07it/s]\n"
     ]
    },
    {
     "name": "stdout",
     "output_type": "stream",
     "text": [
      "Epoch: 1; Training Loss: 484.84954833984375; Validation Loss: 120.04685974121094\n"
     ]
    },
    {
     "name": "stderr",
     "output_type": "stream",
     "text": [
      "100%|██████████| 1500/1500 [00:07<00:00, 208.08it/s]\n",
      "100%|██████████| 375/375 [00:01<00:00, 283.40it/s]\n"
     ]
    },
    {
     "name": "stdout",
     "output_type": "stream",
     "text": [
      "Epoch: 2; Training Loss: 432.3430480957031; Validation Loss: 114.99231719970703\n"
     ]
    },
    {
     "name": "stderr",
     "output_type": "stream",
     "text": [
      "100%|██████████| 1500/1500 [00:07<00:00, 210.02it/s]\n",
      "100%|██████████| 375/375 [00:01<00:00, 284.15it/s]\n"
     ]
    },
    {
     "name": "stdout",
     "output_type": "stream",
     "text": [
      "Epoch: 3; Training Loss: 397.9187316894531; Validation Loss: 112.45218658447266\n"
     ]
    },
    {
     "name": "stderr",
     "output_type": "stream",
     "text": [
      "100%|██████████| 1500/1500 [00:07<00:00, 210.68it/s]\n",
      "100%|██████████| 375/375 [00:01<00:00, 287.74it/s]\n"
     ]
    },
    {
     "name": "stdout",
     "output_type": "stream",
     "text": [
      "Epoch: 4; Training Loss: 372.34136962890625; Validation Loss: 111.18476867675781\n"
     ]
    },
    {
     "name": "stderr",
     "output_type": "stream",
     "text": [
      "100%|██████████| 1500/1500 [00:07<00:00, 204.85it/s]\n",
      "100%|██████████| 375/375 [00:01<00:00, 279.95it/s]\n"
     ]
    },
    {
     "name": "stdout",
     "output_type": "stream",
     "text": [
      "Epoch: 5; Training Loss: 351.64990234375; Validation Loss: 110.49325561523438\n"
     ]
    },
    {
     "name": "stderr",
     "output_type": "stream",
     "text": [
      "100%|██████████| 1500/1500 [00:08<00:00, 176.53it/s]\n",
      "100%|██████████| 375/375 [00:01<00:00, 231.99it/s]\n"
     ]
    },
    {
     "name": "stdout",
     "output_type": "stream",
     "text": [
      "Epoch: 6; Training Loss: 334.1351623535156; Validation Loss: 110.41587829589844\n"
     ]
    },
    {
     "name": "stderr",
     "output_type": "stream",
     "text": [
      "100%|██████████| 1500/1500 [00:08<00:00, 176.53it/s]\n",
      "100%|██████████| 375/375 [00:01<00:00, 239.34it/s]\n"
     ]
    },
    {
     "name": "stdout",
     "output_type": "stream",
     "text": [
      "Epoch: 7; Training Loss: 318.760009765625; Validation Loss: 110.4894027709961\n"
     ]
    },
    {
     "name": "stderr",
     "output_type": "stream",
     "text": [
      "100%|██████████| 1500/1500 [00:07<00:00, 190.14it/s]\n",
      "100%|██████████| 375/375 [00:01<00:00, 285.08it/s]\n"
     ]
    },
    {
     "name": "stdout",
     "output_type": "stream",
     "text": [
      "Epoch: 8; Training Loss: 305.0118103027344; Validation Loss: 110.78427124023438\n"
     ]
    },
    {
     "name": "stderr",
     "output_type": "stream",
     "text": [
      "100%|██████████| 1500/1500 [00:07<00:00, 208.24it/s]\n",
      "100%|██████████| 375/375 [00:01<00:00, 294.13it/s]\n"
     ]
    },
    {
     "name": "stdout",
     "output_type": "stream",
     "text": [
      "Epoch: 9; Training Loss: 292.379638671875; Validation Loss: 111.25003051757812\n"
     ]
    },
    {
     "name": "stderr",
     "output_type": "stream",
     "text": [
      "  0%|          | 0/313 [00:00<?, ?it/s]/tmp/ipykernel_926810/2900843493.py:15: UserWarning: Implicit dimension choice for softmax has been deprecated. Change the call to include dim=X as an argument.\n",
      "  probabilities = torch.nn.Softmax()(logits)\n",
      "100%|██████████| 313/313 [00:01<00:00, 256.42it/s]\n"
     ]
    },
    {
     "name": "stdout",
     "output_type": "stream",
     "text": [
      "Accuracy : 89.52\n",
      "Fold 2\n",
      "-------\n"
     ]
    },
    {
     "name": "stderr",
     "output_type": "stream",
     "text": [
      "100%|██████████| 1500/1500 [00:18<00:00, 81.23it/s]\n",
      "100%|██████████| 375/375 [00:01<00:00, 236.76it/s]\n"
     ]
    },
    {
     "name": "stdout",
     "output_type": "stream",
     "text": [
      "Epoch: 0; Training Loss: 27.352901458740234; Validation Loss: 4.330361366271973\n"
     ]
    },
    {
     "name": "stderr",
     "output_type": "stream",
     "text": [
      "100%|██████████| 1500/1500 [00:18<00:00, 81.24it/s]\n",
      "100%|██████████| 375/375 [00:01<00:00, 250.78it/s]\n"
     ]
    },
    {
     "name": "stdout",
     "output_type": "stream",
     "text": [
      "Epoch: 1; Training Loss: 15.812342643737793; Validation Loss: 3.6087779998779297\n"
     ]
    },
    {
     "name": "stderr",
     "output_type": "stream",
     "text": [
      "100%|██████████| 1500/1500 [00:19<00:00, 76.11it/s]\n",
      "100%|██████████| 375/375 [00:01<00:00, 246.75it/s]\n"
     ]
    },
    {
     "name": "stdout",
     "output_type": "stream",
     "text": [
      "Epoch: 2; Training Loss: 13.373046875; Validation Loss: 3.1594550609588623\n"
     ]
    },
    {
     "name": "stderr",
     "output_type": "stream",
     "text": [
      "100%|██████████| 1500/1500 [00:21<00:00, 68.25it/s]\n",
      "100%|██████████| 375/375 [00:01<00:00, 245.78it/s]\n"
     ]
    },
    {
     "name": "stdout",
     "output_type": "stream",
     "text": [
      "Epoch: 3; Training Loss: 12.039244651794434; Validation Loss: 3.0153145790100098\n"
     ]
    },
    {
     "name": "stderr",
     "output_type": "stream",
     "text": [
      " 28%|██▊       | 425/1500 [00:06<00:15, 68.08it/s]\n"
     ]
    },
    {
     "ename": "KeyboardInterrupt",
     "evalue": "",
     "output_type": "error",
     "traceback": [
      "\u001b[0;31m---------------------------------------------------------------------------\u001b[0m",
      "\u001b[0;31mKeyboardInterrupt\u001b[0m                         Traceback (most recent call last)",
      "Cell \u001b[0;32mIn[11], line 44\u001b[0m\n\u001b[1;32m     29\u001b[0m \u001b[38;5;66;03m# Train VAE Network\u001b[39;00m\n\u001b[1;32m     30\u001b[0m trainer \u001b[38;5;241m=\u001b[39m Trainer(\n\u001b[1;32m     31\u001b[0m     train_loader\u001b[38;5;241m=\u001b[39mtrain_loader,\n\u001b[1;32m     32\u001b[0m     val_loader\u001b[38;5;241m=\u001b[39mval_loader,\n\u001b[0;32m   (...)\u001b[0m\n\u001b[1;32m     42\u001b[0m     input_dim\u001b[38;5;241m=\u001b[39minput_dim\n\u001b[1;32m     43\u001b[0m )\n\u001b[0;32m---> 44\u001b[0m \u001b[43mtrainer\u001b[49m\u001b[38;5;241;43m.\u001b[39;49m\u001b[43mtraining\u001b[49m\u001b[43m(\u001b[49m\u001b[43mfold\u001b[49m\u001b[43m)\u001b[49m\n\u001b[1;32m     46\u001b[0m \u001b[38;5;66;03m# Load the trained VAE Network\u001b[39;00m\n\u001b[1;32m     47\u001b[0m model \u001b[38;5;241m=\u001b[39m Model(z_dim\u001b[38;5;241m=\u001b[39membed_size, strategy\u001b[38;5;241m=\u001b[39msampling_strategy, input_channels\u001b[38;5;241m=\u001b[39minput_channels, input_dim\u001b[38;5;241m=\u001b[39minput_dim)\u001b[38;5;241m.\u001b[39mto(DEVICE)\n",
      "Cell \u001b[0;32mIn[8], line 99\u001b[0m, in \u001b[0;36mTrainer.training\u001b[0;34m(self, fold)\u001b[0m\n\u001b[1;32m     96\u001b[0m label \u001b[38;5;241m=\u001b[39m label\u001b[38;5;241m.\u001b[39mtype(torch\u001b[38;5;241m.\u001b[39mLongTensor)\u001b[38;5;241m.\u001b[39mto(\u001b[38;5;28mself\u001b[39m\u001b[38;5;241m.\u001b[39mDEVICE)\n\u001b[1;32m     98\u001b[0m \u001b[38;5;66;03m# Passing the input image through VAE\u001b[39;00m\n\u001b[0;32m---> 99\u001b[0m embedding, out, mu, logvar \u001b[38;5;241m=\u001b[39m \u001b[38;5;28;43mself\u001b[39;49m\u001b[38;5;241;43m.\u001b[39;49m\u001b[43mmodel\u001b[49m\u001b[38;5;241;43m.\u001b[39;49m\u001b[43mforward\u001b[49m\u001b[43m(\u001b[49m\u001b[43mimage\u001b[49m\u001b[43m)\u001b[49m\n\u001b[1;32m    101\u001b[0m \u001b[38;5;66;03m# Mean Square Error Loss (Reconstruction loss in VAE Loss function)\u001b[39;00m\n\u001b[1;32m    102\u001b[0m mse_loss \u001b[38;5;241m=\u001b[39m torch\u001b[38;5;241m.\u001b[39mnn\u001b[38;5;241m.\u001b[39mfunctional\u001b[38;5;241m.\u001b[39mmse_loss(out, image)\n",
      "Cell \u001b[0;32mIn[6], line 96\u001b[0m, in \u001b[0;36mModel.forward\u001b[0;34m(self, x)\u001b[0m\n\u001b[1;32m     93\u001b[0m \u001b[38;5;28;01melif\u001b[39;00m \u001b[38;5;28mself\u001b[39m\u001b[38;5;241m.\u001b[39mstrategy\u001b[38;5;241m==\u001b[39m\u001b[38;5;124m\"\u001b[39m\u001b[38;5;124mMAP\u001b[39m\u001b[38;5;124m\"\u001b[39m:\n\u001b[1;32m     94\u001b[0m     z \u001b[38;5;241m=\u001b[39m mu\n\u001b[0;32m---> 96\u001b[0m x_reconstructed \u001b[38;5;241m=\u001b[39m \u001b[38;5;28;43mself\u001b[39;49m\u001b[38;5;241;43m.\u001b[39;49m\u001b[43mdecoder\u001b[49m\u001b[43m(\u001b[49m\u001b[43mz\u001b[49m\u001b[43m)\u001b[49m\n\u001b[1;32m     97\u001b[0m \u001b[38;5;28;01mreturn\u001b[39;00m z, x_reconstructed, mu, logvar\n",
      "File \u001b[0;32m~/.local/lib/python3.9/site-packages/torch/nn/modules/module.py:1130\u001b[0m, in \u001b[0;36mModule._call_impl\u001b[0;34m(self, *input, **kwargs)\u001b[0m\n\u001b[1;32m   1126\u001b[0m \u001b[38;5;66;03m# If we don't have any hooks, we want to skip the rest of the logic in\u001b[39;00m\n\u001b[1;32m   1127\u001b[0m \u001b[38;5;66;03m# this function, and just call forward.\u001b[39;00m\n\u001b[1;32m   1128\u001b[0m \u001b[38;5;28;01mif\u001b[39;00m \u001b[38;5;129;01mnot\u001b[39;00m (\u001b[38;5;28mself\u001b[39m\u001b[38;5;241m.\u001b[39m_backward_hooks \u001b[38;5;129;01mor\u001b[39;00m \u001b[38;5;28mself\u001b[39m\u001b[38;5;241m.\u001b[39m_forward_hooks \u001b[38;5;129;01mor\u001b[39;00m \u001b[38;5;28mself\u001b[39m\u001b[38;5;241m.\u001b[39m_forward_pre_hooks \u001b[38;5;129;01mor\u001b[39;00m _global_backward_hooks\n\u001b[1;32m   1129\u001b[0m         \u001b[38;5;129;01mor\u001b[39;00m _global_forward_hooks \u001b[38;5;129;01mor\u001b[39;00m _global_forward_pre_hooks):\n\u001b[0;32m-> 1130\u001b[0m     \u001b[38;5;28;01mreturn\u001b[39;00m \u001b[43mforward_call\u001b[49m\u001b[43m(\u001b[49m\u001b[38;5;241;43m*\u001b[39;49m\u001b[38;5;28;43minput\u001b[39;49m\u001b[43m,\u001b[49m\u001b[43m \u001b[49m\u001b[38;5;241;43m*\u001b[39;49m\u001b[38;5;241;43m*\u001b[39;49m\u001b[43mkwargs\u001b[49m\u001b[43m)\u001b[49m\n\u001b[1;32m   1131\u001b[0m \u001b[38;5;66;03m# Do not call functions when jit is used\u001b[39;00m\n\u001b[1;32m   1132\u001b[0m full_backward_hooks, non_full_backward_hooks \u001b[38;5;241m=\u001b[39m [], []\n",
      "Cell \u001b[0;32mIn[6], line 76\u001b[0m, in \u001b[0;36mDecoder.forward\u001b[0;34m(self, x)\u001b[0m\n\u001b[1;32m     74\u001b[0m \u001b[38;5;28;01mdef\u001b[39;00m \u001b[38;5;21mforward\u001b[39m(\u001b[38;5;28mself\u001b[39m, x):\n\u001b[1;32m     75\u001b[0m     \u001b[38;5;28;01mfor\u001b[39;00m layer \u001b[38;5;129;01min\u001b[39;00m \u001b[38;5;28mself\u001b[39m\u001b[38;5;241m.\u001b[39mmodel:\n\u001b[0;32m---> 76\u001b[0m         x \u001b[38;5;241m=\u001b[39m \u001b[43mlayer\u001b[49m\u001b[43m(\u001b[49m\u001b[43mx\u001b[49m\u001b[43m)\u001b[49m\n\u001b[1;32m     77\u001b[0m     \u001b[38;5;28;01mreturn\u001b[39;00m x\n",
      "File \u001b[0;32m~/.local/lib/python3.9/site-packages/torch/nn/modules/module.py:1130\u001b[0m, in \u001b[0;36mModule._call_impl\u001b[0;34m(self, *input, **kwargs)\u001b[0m\n\u001b[1;32m   1126\u001b[0m \u001b[38;5;66;03m# If we don't have any hooks, we want to skip the rest of the logic in\u001b[39;00m\n\u001b[1;32m   1127\u001b[0m \u001b[38;5;66;03m# this function, and just call forward.\u001b[39;00m\n\u001b[1;32m   1128\u001b[0m \u001b[38;5;28;01mif\u001b[39;00m \u001b[38;5;129;01mnot\u001b[39;00m (\u001b[38;5;28mself\u001b[39m\u001b[38;5;241m.\u001b[39m_backward_hooks \u001b[38;5;129;01mor\u001b[39;00m \u001b[38;5;28mself\u001b[39m\u001b[38;5;241m.\u001b[39m_forward_hooks \u001b[38;5;129;01mor\u001b[39;00m \u001b[38;5;28mself\u001b[39m\u001b[38;5;241m.\u001b[39m_forward_pre_hooks \u001b[38;5;129;01mor\u001b[39;00m _global_backward_hooks\n\u001b[1;32m   1129\u001b[0m         \u001b[38;5;129;01mor\u001b[39;00m _global_forward_hooks \u001b[38;5;129;01mor\u001b[39;00m _global_forward_pre_hooks):\n\u001b[0;32m-> 1130\u001b[0m     \u001b[38;5;28;01mreturn\u001b[39;00m \u001b[43mforward_call\u001b[49m\u001b[43m(\u001b[49m\u001b[38;5;241;43m*\u001b[39;49m\u001b[38;5;28;43minput\u001b[39;49m\u001b[43m,\u001b[49m\u001b[43m \u001b[49m\u001b[38;5;241;43m*\u001b[39;49m\u001b[38;5;241;43m*\u001b[39;49m\u001b[43mkwargs\u001b[49m\u001b[43m)\u001b[49m\n\u001b[1;32m   1131\u001b[0m \u001b[38;5;66;03m# Do not call functions when jit is used\u001b[39;00m\n\u001b[1;32m   1132\u001b[0m full_backward_hooks, non_full_backward_hooks \u001b[38;5;241m=\u001b[39m [], []\n",
      "File \u001b[0;32m~/.local/lib/python3.9/site-packages/torch/nn/modules/conv.py:950\u001b[0m, in \u001b[0;36mConvTranspose2d.forward\u001b[0;34m(self, input, output_size)\u001b[0m\n\u001b[1;32m    945\u001b[0m num_spatial_dims \u001b[38;5;241m=\u001b[39m \u001b[38;5;241m2\u001b[39m\n\u001b[1;32m    946\u001b[0m output_padding \u001b[38;5;241m=\u001b[39m \u001b[38;5;28mself\u001b[39m\u001b[38;5;241m.\u001b[39m_output_padding(\n\u001b[1;32m    947\u001b[0m     \u001b[38;5;28minput\u001b[39m, output_size, \u001b[38;5;28mself\u001b[39m\u001b[38;5;241m.\u001b[39mstride, \u001b[38;5;28mself\u001b[39m\u001b[38;5;241m.\u001b[39mpadding, \u001b[38;5;28mself\u001b[39m\u001b[38;5;241m.\u001b[39mkernel_size,  \u001b[38;5;66;03m# type: ignore[arg-type]\u001b[39;00m\n\u001b[1;32m    948\u001b[0m     num_spatial_dims, \u001b[38;5;28mself\u001b[39m\u001b[38;5;241m.\u001b[39mdilation)  \u001b[38;5;66;03m# type: ignore[arg-type]\u001b[39;00m\n\u001b[0;32m--> 950\u001b[0m \u001b[38;5;28;01mreturn\u001b[39;00m \u001b[43mF\u001b[49m\u001b[38;5;241;43m.\u001b[39;49m\u001b[43mconv_transpose2d\u001b[49m\u001b[43m(\u001b[49m\n\u001b[1;32m    951\u001b[0m \u001b[43m    \u001b[49m\u001b[38;5;28;43minput\u001b[39;49m\u001b[43m,\u001b[49m\u001b[43m \u001b[49m\u001b[38;5;28;43mself\u001b[39;49m\u001b[38;5;241;43m.\u001b[39;49m\u001b[43mweight\u001b[49m\u001b[43m,\u001b[49m\u001b[43m \u001b[49m\u001b[38;5;28;43mself\u001b[39;49m\u001b[38;5;241;43m.\u001b[39;49m\u001b[43mbias\u001b[49m\u001b[43m,\u001b[49m\u001b[43m \u001b[49m\u001b[38;5;28;43mself\u001b[39;49m\u001b[38;5;241;43m.\u001b[39;49m\u001b[43mstride\u001b[49m\u001b[43m,\u001b[49m\u001b[43m \u001b[49m\u001b[38;5;28;43mself\u001b[39;49m\u001b[38;5;241;43m.\u001b[39;49m\u001b[43mpadding\u001b[49m\u001b[43m,\u001b[49m\n\u001b[1;32m    952\u001b[0m \u001b[43m    \u001b[49m\u001b[43moutput_padding\u001b[49m\u001b[43m,\u001b[49m\u001b[43m \u001b[49m\u001b[38;5;28;43mself\u001b[39;49m\u001b[38;5;241;43m.\u001b[39;49m\u001b[43mgroups\u001b[49m\u001b[43m,\u001b[49m\u001b[43m \u001b[49m\u001b[38;5;28;43mself\u001b[39;49m\u001b[38;5;241;43m.\u001b[39;49m\u001b[43mdilation\u001b[49m\u001b[43m)\u001b[49m\n",
      "\u001b[0;31mKeyboardInterrupt\u001b[0m: "
     ]
    }
   ],
   "source": [
    "embed_sizes = [128, 8, 16, 32, 64, 128]\n",
    "sampling_strategies = [\"MAP\", \"Sampling\"]\n",
    "model_types = [\"MMD\", \"VAE\"]\n",
    "dataset_name = \"FashionMNIST\"\n",
    "\n",
    "for model_type in model_types:\n",
    "    for sampling_strategy in sampling_strategies:\n",
    "        accuracies = []\n",
    "        best_accuracies = []\n",
    "        for embed_size in embed_sizes:\n",
    "            k_folds = 5\n",
    "            kf = KFold(n_splits=k_folds, shuffle=True)\n",
    "            test_loader = DataLoader(test_dataset, shuffle=False, batch_size = batch_size)\n",
    "            accuracy = []\n",
    "\n",
    "            for fold, (train_idx, val_idx) in enumerate(kf.split(training_dataset)):\n",
    "                print(f\"Fold {fold + 1}\")\n",
    "                print(\"-------\")\n",
    "\n",
    "                # Define the data loaders for the current fold\n",
    "                train_loader = DataLoader(\n",
    "                    dataset=torch.utils.data.Subset(training_dataset, train_idx),\n",
    "                    batch_size=batch_size\n",
    "                )\n",
    "                val_loader = DataLoader(\n",
    "                    dataset=torch.utils.data.Subset(training_dataset, val_idx),\n",
    "                    batch_size=batch_size,\n",
    "                )\n",
    "\n",
    "                # Train VAE Network\n",
    "                trainer = Trainer(\n",
    "                    train_loader=train_loader,\n",
    "                    val_loader=val_loader,\n",
    "                    sampling_strategy=sampling_strategy,\n",
    "                    model_type=model_type,\n",
    "                    num_samples=num_samples,\n",
    "                    epochs=model_epochs,\n",
    "                    patience=patience,\n",
    "                    delta=delta,\n",
    "                    batch_size=batch_size,\n",
    "                    embed_size=embed_size,\n",
    "                    input_channels=input_channels,\n",
    "                    input_dim=input_dim\n",
    "                )\n",
    "                trainer.training(fold)\n",
    "\n",
    "                # Load the trained VAE Network\n",
    "                model = Model(z_dim=embed_size, strategy=sampling_strategy, input_channels=input_channels, input_dim=input_dim).to(DEVICE)\n",
    "                model.load_state_dict(torch.load(f\"./weights/VAE/VAE_{fold}_weights.pt\"))\n",
    "\n",
    "                # Train Classifier Network\n",
    "                classifier = Classifier(\n",
    "                    model=model,\n",
    "                    train_loader=train_loader,\n",
    "                    val_loader=val_loader,\n",
    "                    test_loader=test_loader,\n",
    "                    epochs=classifier_epochs,\n",
    "                    num_classes=num_classes,\n",
    "                    embed_size=embed_size,\n",
    "                    delta=delta,\n",
    "                    patience=patience\n",
    "                )\n",
    "                classifier.training(fold)\n",
    "                accuracy.append(classifier.predict(fold))\n",
    "\n",
    "            accuracies.append(np.mean(accuracy))\n",
    "            best_accuracies.append(np.max(accuracy))\n",
    "\n",
    "            print(f\"Mean Accuracy : {np.mean(accuracy)}\")\n",
    "            print(f\"Best Accuracy : {np.max(accuracy)} at {np.argmax(accuracy)} fold\")\n",
    "            print()\n",
    "        \n",
    "        df = pd.DataFrame(list(zip(*[embed_sizes, accuracies, best_accuracies])), columns=[\"Embedding Dimension\", \"Mean Accuracy\", \"Best Accuracy\"])\n",
    "        df.to_csv(f\"./results/{dataset_name}_{model_type}_{sampling_strategy}.csv\")\n"
   ]
  },
  {
   "cell_type": "markdown",
   "metadata": {},
   "source": [
    "## **Plot Latent Space**"
   ]
  },
  {
   "cell_type": "code",
   "execution_count": 43,
   "metadata": {},
   "outputs": [
    {
     "name": "stderr",
     "output_type": "stream",
     "text": [
      "313it [00:01, 223.40it/s]\n"
     ]
    },
    {
     "data": {
      "image/png": "[encoded data removed]",
      "text/plain": [
       "<Figure size 640x480 with 1 Axes>"
      ]
     },
     "metadata": {},
     "output_type": "display_data"
    }
   ],
   "source": [
    "# Load Models\n",
    "pca = PCA(n_components=2)\n",
    "# best_fold = np.argmax(accuracy)\n",
    "model = Model(z_dim=embed_size, strategy=sampling_strategy, input_channels=input_channels, input_dim=input_dim).to(DEVICE)\n",
    "model.load_state_dict(torch.load(f\"./weights/VAE/VAE_{1}_weights.pt\"))\n",
    "\n",
    "# Label, Embedding Matrices\n",
    "size = len(test_dataset)\n",
    "embedding = torch.zeros((size, embed_size))\n",
    "y = torch.zeros(size)\n",
    "\n",
    "with torch.no_grad():\n",
    "  for i, (image, label) in tqdm(enumerate(test_loader)):\n",
    "    # image = image.squeeze()\n",
    "    image = image.to(DEVICE)\n",
    "    label = label.to(torch.int32).to(DEVICE)\n",
    "\n",
    "    z, _, _, _ = model.forward(image)\n",
    "    embedding[i*batch_size:min((i+1)*batch_size, size)] = z\n",
    "    y[i*batch_size:min((i+1)*batch_size, size)] = label\n",
    "\n",
    "if embed_size != 2:\n",
    "  embedding = pca.fit_transform(embedding)\n",
    "\n",
    "colors = ['red','green','blue','orange','purple','brown','pink','gray','olive','cyan']\n",
    "colours = ListedColormap(colors)\n",
    "scatter = plt.scatter(embedding[:,0], embedding[:,1], c=y, cmap=colours)\n",
    "plt.legend(*scatter.legend_elements())\n",
    "plt.savefig(\"./latent.png\", format=\"png\")"
   ]
  },
  {
   "cell_type": "code",
   "execution_count": null,
   "metadata": {},
   "outputs": [],
   "source": [
    "model.load_state_dict(torch.load(f\"./weights/VAE/VAE_{best_fold}_weights.pt\"))\n",
    "classifier_network = FeedForwardClassifier(output_dim=num_classes, embed_size=embed_size).to(DEVICE)\n",
    "classifier_network.load_state_dict(torch.load(f\"./weights/classifier/classifier_{best_fold}_weights.pt\"))\n",
    "\n",
    "model.eval()\n",
    "classifier_network.eval()\n",
    "\n",
    "correct = 0\n",
    "with torch.no_grad():\n",
    "  for image, label in tqdm(test_loader):\n",
    "    image = image.to(DEVICE)\n",
    "    label = label.to(torch.int32).to(DEVICE)\n",
    "\n",
    "    embedding, _, _, _ = model.forward(image)\n",
    "    prediction = classifier_network.predict(embedding).to(torch.int32)\n",
    "\n",
    "    correct += int(sum(prediction==label))\n",
    "print()\n",
    "print(f\"Accuracy : {100*correct/len(test_loader.dataset):.2f}\")"
   ]
  }
 ],
 "metadata": {
  "kernelspec": {
   "display_name": "Python 3",
   "language": "python",
   "name": "python3"
  },
  "language_info": {
   "codemirror_mode": {
    "name": "ipython",
    "version": 3
   },
   "file_extension": ".py",
   "mimetype": "text/x-python",
   "name": "python",
   "nbconvert_exporter": "python",
   "pygments_lexer": "ipython3",
   "version": "3.9.2"
  }
 },
 "nbformat": 4,
 "nbformat_minor": 2
}
