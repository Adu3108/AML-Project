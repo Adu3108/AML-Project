{
 "cells": [
  {
   "cell_type": "code",
   "execution_count": 101,
   "metadata": {},
   "outputs": [],
   "source": [
    "import torchvision.datasets as datasets\n",
    "from torchvision import transforms\n",
    "import torch\n",
    "from torch.utils.data import DataLoader\n",
    "from tqdm import tqdm\n",
    "from sklearn.decomposition import PCA\n",
    "import matplotlib.pyplot as plt"
   ]
  },
  {
   "cell_type": "code",
   "execution_count": 102,
   "metadata": {},
   "outputs": [],
   "source": [
    "training_dataset = datasets.MNIST(root=\"data\", train=True, download=True, transform=transforms.ToTensor())\n",
    "test_dataset = datasets.MNIST(root=\"data\", train=False, download=True, transform=transforms.ToTensor())"
   ]
  },
  {
   "cell_type": "code",
   "execution_count": 113,
   "metadata": {},
   "outputs": [],
   "source": [
    "training_size = int(len(training_dataset)*0.8)\n",
    "val_size = len(training_dataset) - training_size\n",
    "training_data, val_data = torch.utils.data.random_split(training_dataset, [training_size, val_size])"
   ]
  },
  {
   "cell_type": "code",
   "execution_count": 104,
   "metadata": {},
   "outputs": [],
   "source": [
    "image_shape = training_dataset.data[0].shape\n",
    "if len(image_shape)==2:\n",
    "  input_channels = 1\n",
    "  input_dim = tuple(image_shape)\n",
    "else:\n",
    "  input_channels = image_shape[0]\n",
    "  input_dim = tuple(image_shape[1:])"
   ]
  },
  {
   "cell_type": "code",
   "execution_count": 114,
   "metadata": {},
   "outputs": [],
   "source": [
    "DEVICE = \"cuda\" if torch.cuda.is_available() else \"cpu\"\n",
    "num_classes = len(training_dataset.classes)\n",
    "embed_size = 2\n",
    "batch_size = 200\n",
    "\n",
    "training_loader = DataLoader(training_data, shuffle=False, batch_size = batch_size)\n",
    "val_loader = DataLoader(val_data, shuffle=False, batch_size = batch_size)\n",
    "test_loader = DataLoader(test_dataset, shuffle=False, batch_size = batch_size)"
   ]
  },
  {
   "cell_type": "code",
   "execution_count": 106,
   "metadata": {},
   "outputs": [],
   "source": [
    "class Flatten(torch.nn.Module):\n",
    "    def forward(self, x):\n",
    "        return x.view(x.size(0), -1)\n",
    "    \n",
    "class Reshape(torch.nn.Module):\n",
    "    def __init__(self, outer_shape):\n",
    "        super(Reshape, self).__init__()\n",
    "        self.outer_shape = outer_shape\n",
    "    def forward(self, x):\n",
    "        return x.view(x.size(0), *self.outer_shape)"
   ]
  },
  {
   "cell_type": "code",
   "execution_count": 107,
   "metadata": {},
   "outputs": [],
   "source": [
    "class FeedForwardClassifier(torch.nn.Module):\n",
    "    def __init__(self, output_dim, embed_size) -> None:\n",
    "        super().__init__()\n",
    "        self.fc1 = torch.nn.Linear(embed_size, 250)\n",
    "        self.fc2 = torch.nn.Linear(250, output_dim)\n",
    "\n",
    "    def forward(self, embedding):\n",
    "        x = embedding.squeeze()\n",
    "        x = torch.nn.ReLU()(self.fc1(x))\n",
    "        output = self.fc2(x)\n",
    "        return output\n",
    "\n",
    "    def predict(self, embedding):\n",
    "        logits = self.forward(embedding)\n",
    "        probabilities = torch.nn.Softmax()(logits)\n",
    "        return torch.argmax(probabilities, dim=1)"
   ]
  },
  {
   "cell_type": "code",
   "execution_count": 119,
   "metadata": {},
   "outputs": [],
   "source": [
    "# Encoder and decoder use the DC-GAN architecture\n",
    "class Encoder(torch.nn.Module):\n",
    "    def __init__(self, z_dim):\n",
    "        super(Encoder, self).__init__()\n",
    "        self.model = torch.nn.ModuleList([\n",
    "            torch.nn.Conv2d(1, 64, 4, 2, padding=1),\n",
    "            torch.nn.LeakyReLU(),\n",
    "            torch.nn.Conv2d(64, 128, 4, 2, padding=1),\n",
    "            torch.nn.LeakyReLU(),\n",
    "            Flatten(),\n",
    "            torch.nn.Linear(6272, 1024),\n",
    "            torch.nn.LeakyReLU(),\n",
    "        ])\n",
    "        self.dense_mu = torch.nn.Linear(1024, z_dim)\n",
    "        self.dense_logvar = torch.nn.Linear(1024, z_dim)\n",
    "        \n",
    "    def forward(self, x):\n",
    "        for layer in self.model:\n",
    "            x = layer(x)\n",
    "        mu = self.dense_mu(x)\n",
    "        logvar = self.dense_logvar(x)\n",
    "        return mu, logvar\n",
    "    \n",
    "    \n",
    "class Decoder(torch.nn.Module):\n",
    "    def __init__(self, z_dim):\n",
    "        super(Decoder, self).__init__()\n",
    "        self.model = torch.nn.ModuleList([\n",
    "            torch.nn.Linear(z_dim, 1024),\n",
    "            torch.nn.ReLU(),\n",
    "            torch.nn.Linear(1024, 7*7*128),\n",
    "            torch.nn.ReLU(),\n",
    "            Reshape((128,7,7,)),\n",
    "            torch.nn.ConvTranspose2d(128, 64, 4, 2, padding=1),\n",
    "            torch.nn.ReLU(),\n",
    "            torch.nn.ConvTranspose2d(64, 1, 4, 2, padding=1),\n",
    "            torch.nn.Sigmoid()\n",
    "        ])\n",
    "        \n",
    "    def forward(self, x):\n",
    "        for layer in self.model:\n",
    "            x = layer(x)\n",
    "        return x\n",
    "    \n",
    "class Model(torch.nn.Module):\n",
    "    def __init__(self, z_dim):\n",
    "        super(Model, self).__init__()\n",
    "        self.encoder = Encoder(z_dim)\n",
    "        self.decoder = Decoder(z_dim)\n",
    "        \n",
    "    def forward(self, x):\n",
    "        mu, logvar = self.encoder(x)\n",
    "        std = torch.exp(logvar / 2)\n",
    "        eps = torch.randn_like(std)\n",
    "        z = mu \n",
    "        x_reconstructed = self.decoder(z)\n",
    "        return z, x_reconstructed"
   ]
  },
  {
   "cell_type": "code",
   "execution_count": 120,
   "metadata": {},
   "outputs": [
    {
     "data": {
      "text/plain": [
       "Model(\n",
       "  (encoder): Encoder(\n",
       "    (model): ModuleList(\n",
       "      (0): Conv2d(1, 64, kernel_size=(4, 4), stride=(2, 2), padding=(1, 1))\n",
       "      (1): LeakyReLU(negative_slope=0.01)\n",
       "      (2): Conv2d(64, 128, kernel_size=(4, 4), stride=(2, 2), padding=(1, 1))\n",
       "      (3): LeakyReLU(negative_slope=0.01)\n",
       "      (4): Flatten()\n",
       "      (5): Linear(in_features=6272, out_features=1024, bias=True)\n",
       "      (6): LeakyReLU(negative_slope=0.01)\n",
       "    )\n",
       "    (dense_mu): Linear(in_features=1024, out_features=2, bias=True)\n",
       "    (dense_logvar): Linear(in_features=1024, out_features=2, bias=True)\n",
       "  )\n",
       "  (decoder): Decoder(\n",
       "    (model): ModuleList(\n",
       "      (0): Linear(in_features=2, out_features=1024, bias=True)\n",
       "      (1): ReLU()\n",
       "      (2): Linear(in_features=1024, out_features=6272, bias=True)\n",
       "      (3): ReLU()\n",
       "      (4): Reshape()\n",
       "      (5): ConvTranspose2d(128, 64, kernel_size=(4, 4), stride=(2, 2), padding=(1, 1))\n",
       "      (6): ReLU()\n",
       "      (7): ConvTranspose2d(64, 1, kernel_size=(4, 4), stride=(2, 2), padding=(1, 1))\n",
       "      (8): Sigmoid()\n",
       "    )\n",
       "  )\n",
       ")"
      ]
     },
     "execution_count": 120,
     "metadata": {},
     "output_type": "execute_result"
    }
   ],
   "source": [
    "model = Model(z_dim=embed_size).to(DEVICE)\n",
    "optimizer = torch.optim.Adam(model.parameters())\n",
    "\n",
    "model.train()"
   ]
  },
  {
   "cell_type": "code",
   "execution_count": 121,
   "metadata": {},
   "outputs": [],
   "source": [
    "num_samples = 200\n",
    "epochs = 10\n",
    "patience = 5\n",
    "delta = 1e-4\n",
    "best_score = None\n",
    "num_bad_epochs = 0"
   ]
  },
  {
   "cell_type": "code",
   "execution_count": 111,
   "metadata": {},
   "outputs": [],
   "source": [
    "def compute_kernel(x, y):\n",
    "    x_size = x.size(0)\n",
    "    y_size = y.size(0)\n",
    "    dim = x.size(1)\n",
    "    x = x.unsqueeze(1) # (x_size, 1, dim)\n",
    "    y = y.unsqueeze(0) # (1, y_size, dim)\n",
    "    tiled_x = x.expand(x_size, y_size, dim)\n",
    "    tiled_y = y.expand(x_size, y_size, dim)\n",
    "    kernel_input = (tiled_x - tiled_y).pow(2).mean(2)/float(dim)\n",
    "    return torch.exp(-kernel_input) # (x_size, y_size)\n",
    "\n",
    "def compute_mmd(x, y):\n",
    "    x_kernel = compute_kernel(x, x)\n",
    "    y_kernel = compute_kernel(y, y)\n",
    "    xy_kernel = compute_kernel(x, y)\n",
    "    mmd = x_kernel.mean() + y_kernel.mean() - 2*xy_kernel.mean()\n",
    "    return mmd"
   ]
  },
  {
   "cell_type": "code",
   "execution_count": 122,
   "metadata": {},
   "outputs": [
    {
     "name": "stderr",
     "output_type": "stream",
     "text": [
      "100%|██████████| 240/240 [00:07<00:00, 33.95it/s]\n",
      "100%|██████████| 60/60 [00:01<00:00, 49.49it/s]\n"
     ]
    },
    {
     "name": "stdout",
     "output_type": "stream",
     "text": [
      "Epoch: 0; Training Loss: 58.66120147705078; Validation Loss: 13.987787246704102\n"
     ]
    },
    {
     "name": "stderr",
     "output_type": "stream",
     "text": [
      "100%|██████████| 240/240 [00:07<00:00, 33.61it/s]\n",
      "100%|██████████| 60/60 [00:01<00:00, 49.12it/s]\n"
     ]
    },
    {
     "name": "stdout",
     "output_type": "stream",
     "text": [
      "Epoch: 1; Training Loss: 56.87114715576172; Validation Loss: 14.297755241394043\n"
     ]
    },
    {
     "name": "stderr",
     "output_type": "stream",
     "text": [
      "100%|██████████| 240/240 [00:07<00:00, 33.51it/s]\n",
      "100%|██████████| 60/60 [00:01<00:00, 48.79it/s]\n"
     ]
    },
    {
     "name": "stdout",
     "output_type": "stream",
     "text": [
      "Epoch: 2; Training Loss: 26.729124069213867; Validation Loss: 3.6511611938476562\n"
     ]
    },
    {
     "name": "stderr",
     "output_type": "stream",
     "text": [
      "100%|██████████| 240/240 [00:07<00:00, 33.44it/s]\n",
      "100%|██████████| 60/60 [00:01<00:00, 48.91it/s]\n"
     ]
    },
    {
     "name": "stdout",
     "output_type": "stream",
     "text": [
      "Epoch: 3; Training Loss: 14.192726135253906; Validation Loss: 3.390651226043701\n"
     ]
    },
    {
     "name": "stderr",
     "output_type": "stream",
     "text": [
      "100%|██████████| 240/240 [00:07<00:00, 33.37it/s]\n",
      "100%|██████████| 60/60 [00:01<00:00, 48.85it/s]\n"
     ]
    },
    {
     "name": "stdout",
     "output_type": "stream",
     "text": [
      "Epoch: 4; Training Loss: 13.073260307312012; Validation Loss: 3.2236711978912354\n"
     ]
    },
    {
     "name": "stderr",
     "output_type": "stream",
     "text": [
      "100%|██████████| 240/240 [00:07<00:00, 33.64it/s]\n",
      "100%|██████████| 60/60 [00:01<00:00, 49.29it/s]\n"
     ]
    },
    {
     "name": "stdout",
     "output_type": "stream",
     "text": [
      "Epoch: 5; Training Loss: 12.545344352722168; Validation Loss: 3.1236913204193115\n"
     ]
    },
    {
     "name": "stderr",
     "output_type": "stream",
     "text": [
      "100%|██████████| 240/240 [00:07<00:00, 33.54it/s]\n",
      "100%|██████████| 60/60 [00:01<00:00, 49.06it/s]\n"
     ]
    },
    {
     "name": "stdout",
     "output_type": "stream",
     "text": [
      "Epoch: 6; Training Loss: 12.028119087219238; Validation Loss: 3.0598766803741455\n"
     ]
    },
    {
     "name": "stderr",
     "output_type": "stream",
     "text": [
      "100%|██████████| 240/240 [00:05<00:00, 41.25it/s]\n",
      "100%|██████████| 60/60 [00:01<00:00, 49.25it/s]\n"
     ]
    },
    {
     "name": "stdout",
     "output_type": "stream",
     "text": [
      "Epoch: 7; Training Loss: 11.728211402893066; Validation Loss: 2.951960325241089\n"
     ]
    },
    {
     "name": "stderr",
     "output_type": "stream",
     "text": [
      "100%|██████████| 240/240 [00:07<00:00, 33.40it/s]\n",
      "100%|██████████| 60/60 [00:01<00:00, 48.62it/s]\n"
     ]
    },
    {
     "name": "stdout",
     "output_type": "stream",
     "text": [
      "Epoch: 8; Training Loss: 11.540290832519531; Validation Loss: 2.9061026573181152\n"
     ]
    },
    {
     "name": "stderr",
     "output_type": "stream",
     "text": [
      "100%|██████████| 240/240 [00:07<00:00, 33.65it/s]\n",
      "100%|██████████| 60/60 [00:01<00:00, 48.92it/s]\n"
     ]
    },
    {
     "name": "stdout",
     "output_type": "stream",
     "text": [
      "Epoch: 9; Training Loss: 11.139874458312988; Validation Loss: 2.7909650802612305\n"
     ]
    }
   ],
   "source": [
    "for epoch in range(epochs):\n",
    "  # Training Loop\n",
    "  epoch_loss = 0\n",
    "  for image, label in tqdm(training_loader):\n",
    "      optimizer.zero_grad()\n",
    "      image = image.to(DEVICE)\n",
    "      label = label.type(torch.LongTensor).to(DEVICE)\n",
    "\n",
    "      # Passing the input image through VAE\n",
    "      embedding, out = model.forward(image)\n",
    "\n",
    "      # Mean Square Error Loss (Reconstruction loss in VAE Loss function)\n",
    "      mse_loss = torch.nn.functional.mse_loss(out, image)\n",
    "\n",
    "      # Maximum Mean Discrepancy\n",
    "      true_samples =  torch.randn(num_samples, embed_size).to(DEVICE)\n",
    "      mmd = compute_mmd(true_samples, embedding)\n",
    "\n",
    "      # Total Loss = Reconstruction Loss + Maximum Mean Discrepancy\n",
    "      loss = mse_loss + mmd\n",
    "\n",
    "      loss.backward() # Perform Back-Propogation\n",
    "      optimizer.step() # Performs a single optimization step (parameter update)\n",
    "      epoch_loss += loss\n",
    "      del loss, out\n",
    "\n",
    "  # Validation Loop\n",
    "  val_loss = 0\n",
    "  with torch.no_grad():\n",
    "    for image, label in tqdm(val_loader):\n",
    "        image = image.to(DEVICE)\n",
    "        label = label.type(torch.LongTensor).to(DEVICE)\n",
    "\n",
    "        true_samples =  torch.randn(num_samples, embed_size).to(DEVICE)\n",
    "        embedding, out = model.forward(image)\n",
    "\n",
    "        mse_val_loss = torch.nn.functional.mse_loss(out, image)\n",
    "        mmd_val_loss = compute_mmd(true_samples, embedding)\n",
    "        val_loss += (mse_val_loss + mmd_val_loss)\n",
    "        \n",
    "  print(f'Epoch: {epoch}; Training Loss: {epoch_loss}; Validation Loss: {val_loss}')\n",
    "  \n",
    "  # Early Stopping\n",
    "  if best_score == None:\n",
    "    best_score = val_loss\n",
    "    encoder_state_dict = model.state_dict()\n",
    "    torch.save(encoder_state_dict, \"model_weights.pt\")\n",
    "  elif best_score-val_loss>delta:\n",
    "    best_score = val_loss\n",
    "    encoder_state_dict = model.state_dict()\n",
    "    num_bad_epochs = 0\n",
    "    torch.save(encoder_state_dict, \"model_weights.pt\")\n",
    "  else:\n",
    "    num_bad_epochs += 1\n",
    "  \n",
    "  if num_bad_epochs==patience:\n",
    "    print(f'Early Stopping at epoch {epoch}')\n",
    "    break"
   ]
  },
  {
   "cell_type": "markdown",
   "metadata": {},
   "source": [
    "## **Plot Latent Space**"
   ]
  },
  {
   "cell_type": "code",
   "execution_count": 123,
   "metadata": {},
   "outputs": [
    {
     "name": "stderr",
     "output_type": "stream",
     "text": [
      "0it [00:00, ?it/s]"
     ]
    },
    {
     "name": "stderr",
     "output_type": "stream",
     "text": [
      "240it [00:04, 49.62it/s]\n",
      "100%|██████████| 1000/1000 [00:03<00:00, 276.68it/s]\n"
     ]
    },
    {
     "data": {
      "image/png": "[encoded data removed]",
      "text/plain": [
       "<Figure size 640x480 with 1 Axes>"
      ]
     },
     "metadata": {},
     "output_type": "display_data"
    }
   ],
   "source": [
    "# Load Models\n",
    "pca = PCA(n_components=2)\n",
    "model.load_state_dict(torch.load(\"./model_weights.pt\"))\n",
    "\n",
    "# Label, Embedding Matrices\n",
    "embedding = torch.zeros((training_size, embed_size))\n",
    "y = torch.zeros(len(training_loader.dataset))\n",
    "\n",
    "with torch.no_grad():\n",
    "  for i, (image, label) in tqdm(enumerate(training_loader)):\n",
    "    # image = image.squeeze()\n",
    "    image = image.to(DEVICE)\n",
    "    label = label.to(torch.int32).to(DEVICE)\n",
    "\n",
    "    z, _ = model.forward(image)\n",
    "    embedding[i*batch_size:min((i+1)*batch_size, training_size)] = z\n",
    "    y[i*batch_size:min((i+1)*batch_size, training_size)] = label\n",
    "\n",
    "if embed_size != 2:\n",
    "  embedding = pca.fit_transform(embedding)\n",
    "\n",
    "colors = ['red','green','blue','orange','purple','brown','pink','gray','olive','cyan']\n",
    "for i in tqdm(range(1000)):\n",
    "    z = embedding[i]\n",
    "    plt.scatter(z[0], z[1], c=colors[int(y[i])])\n",
    "plt.savefig(\"./latent.png\", format=\"png\")\n",
    "plt.show()"
   ]
  },
  {
   "cell_type": "code",
   "execution_count": 124,
   "metadata": {},
   "outputs": [],
   "source": [
    "epochs = 10\n",
    "patience = 5\n",
    "delta = 1e-4\n",
    "best_score = None\n",
    "num_bad_epochs = 0"
   ]
  },
  {
   "cell_type": "code",
   "execution_count": 125,
   "metadata": {},
   "outputs": [
    {
     "name": "stderr",
     "output_type": "stream",
     "text": [
      "100%|██████████| 240/240 [00:05<00:00, 45.26it/s]\n",
      "100%|██████████| 60/60 [00:01<00:00, 48.97it/s]\n"
     ]
    },
    {
     "name": "stdout",
     "output_type": "stream",
     "text": [
      "Epoch: 0; Training Loss: 269.8162536621094; Validation Loss: 51.86894989013672\n"
     ]
    },
    {
     "name": "stderr",
     "output_type": "stream",
     "text": [
      "100%|██████████| 240/240 [00:05<00:00, 45.39it/s]\n",
      "100%|██████████| 60/60 [00:01<00:00, 49.08it/s]\n"
     ]
    },
    {
     "name": "stdout",
     "output_type": "stream",
     "text": [
      "Epoch: 1; Training Loss: 193.52085876464844; Validation Loss: 47.327613830566406\n"
     ]
    },
    {
     "name": "stderr",
     "output_type": "stream",
     "text": [
      "100%|██████████| 240/240 [00:05<00:00, 45.39it/s]\n",
      "100%|██████████| 60/60 [00:01<00:00, 49.03it/s]\n"
     ]
    },
    {
     "name": "stdout",
     "output_type": "stream",
     "text": [
      "Epoch: 2; Training Loss: 182.3379669189453; Validation Loss: 45.70768356323242\n"
     ]
    },
    {
     "name": "stderr",
     "output_type": "stream",
     "text": [
      "100%|██████████| 240/240 [00:05<00:00, 45.32it/s]\n",
      "100%|██████████| 60/60 [00:01<00:00, 48.90it/s]\n"
     ]
    },
    {
     "name": "stdout",
     "output_type": "stream",
     "text": [
      "Epoch: 3; Training Loss: 177.18165588378906; Validation Loss: 44.742557525634766\n"
     ]
    },
    {
     "name": "stderr",
     "output_type": "stream",
     "text": [
      "100%|██████████| 240/240 [00:05<00:00, 44.98it/s]\n",
      "100%|██████████| 60/60 [00:01<00:00, 48.89it/s]\n"
     ]
    },
    {
     "name": "stdout",
     "output_type": "stream",
     "text": [
      "Epoch: 4; Training Loss: 174.00909423828125; Validation Loss: 44.09954833984375\n"
     ]
    },
    {
     "name": "stderr",
     "output_type": "stream",
     "text": [
      "100%|██████████| 240/240 [00:05<00:00, 45.51it/s]\n",
      "100%|██████████| 60/60 [00:01<00:00, 49.32it/s]\n"
     ]
    },
    {
     "name": "stdout",
     "output_type": "stream",
     "text": [
      "Epoch: 5; Training Loss: 171.8083038330078; Validation Loss: 43.61872863769531\n"
     ]
    },
    {
     "name": "stderr",
     "output_type": "stream",
     "text": [
      "100%|██████████| 240/240 [00:05<00:00, 45.32it/s]\n",
      "100%|██████████| 60/60 [00:01<00:00, 48.88it/s]\n"
     ]
    },
    {
     "name": "stdout",
     "output_type": "stream",
     "text": [
      "Epoch: 6; Training Loss: 170.12469482421875; Validation Loss: 43.23501968383789\n"
     ]
    },
    {
     "name": "stderr",
     "output_type": "stream",
     "text": [
      "100%|██████████| 240/240 [00:05<00:00, 44.99it/s]\n",
      "100%|██████████| 60/60 [00:01<00:00, 49.14it/s]\n"
     ]
    },
    {
     "name": "stdout",
     "output_type": "stream",
     "text": [
      "Epoch: 7; Training Loss: 168.769775390625; Validation Loss: 42.9141731262207\n"
     ]
    },
    {
     "name": "stderr",
     "output_type": "stream",
     "text": [
      "100%|██████████| 240/240 [00:05<00:00, 45.08it/s]\n",
      "100%|██████████| 60/60 [00:01<00:00, 48.64it/s]\n"
     ]
    },
    {
     "name": "stdout",
     "output_type": "stream",
     "text": [
      "Epoch: 8; Training Loss: 167.6425323486328; Validation Loss: 42.64621353149414\n"
     ]
    },
    {
     "name": "stderr",
     "output_type": "stream",
     "text": [
      "100%|██████████| 240/240 [00:05<00:00, 44.65it/s]\n",
      "100%|██████████| 60/60 [00:01<00:00, 49.30it/s]"
     ]
    },
    {
     "name": "stdout",
     "output_type": "stream",
     "text": [
      "Epoch: 9; Training Loss: 166.7071990966797; Validation Loss: 42.42451095581055\n"
     ]
    },
    {
     "name": "stderr",
     "output_type": "stream",
     "text": [
      "\n"
     ]
    }
   ],
   "source": [
    "classifier = FeedForwardClassifier(output_dim=num_classes, embed_size=embed_size).to(DEVICE)\n",
    "classifier_optimizer = torch.optim.Adam(classifier.parameters())\n",
    "\n",
    "classifier.train()\n",
    "\n",
    "for epoch in range(epochs):\n",
    "  # Training Loop\n",
    "  epoch_loss = 0\n",
    "  for image, label in tqdm(training_loader):\n",
    "      classifier_optimizer.zero_grad()\n",
    "      image = image.to(DEVICE)\n",
    "      label = label.type(torch.LongTensor).to(DEVICE)\n",
    "\n",
    "      with torch.no_grad():\n",
    "        # Passing the input image through VAE\n",
    "        embedding, out = model.forward(image)\n",
    "\n",
    "      # Passing the latent representation through Classifier\n",
    "      prediction = classifier.forward(embedding)\n",
    "      loss = torch.nn.CrossEntropyLoss()(prediction, label)\n",
    "\n",
    "      loss.backward() # Perform Back-Propogation\n",
    "      classifier_optimizer.step() # Performs a single optimization step (parameter update)\n",
    "      epoch_loss += loss\n",
    "      del loss, out\n",
    "\n",
    "  # Validation Loop\n",
    "  val_loss = 0\n",
    "  with torch.no_grad():\n",
    "    for image, label in tqdm(val_loader):\n",
    "        image = image.to(DEVICE)\n",
    "        label = label.type(torch.LongTensor).to(DEVICE)\n",
    "\n",
    "        embedding, out = model.forward(image)\n",
    "        prediction = classifier.forward(embedding)\n",
    "        classification_loss = torch.nn.CrossEntropyLoss()(prediction, label)\n",
    "        val_loss += classification_loss\n",
    "        \n",
    "  print(f'Epoch: {epoch}; Training Loss: {epoch_loss}; Validation Loss: {val_loss}')\n",
    "  \n",
    "  # Early Stopping\n",
    "  if best_score == None:\n",
    "    best_score = val_loss\n",
    "    classifier_state_dict = classifier.state_dict()\n",
    "    torch.save(classifier_state_dict, \"classifier_weights.pt\")\n",
    "  elif best_score-val_loss>delta:\n",
    "    best_score = val_loss\n",
    "    classifier_state_dict = classifier.state_dict()\n",
    "    num_bad_epochs = 0\n",
    "    torch.save(classifier_state_dict, \"classifier_weights.pt\")\n",
    "  else:\n",
    "    num_bad_epochs += 1\n",
    "  \n",
    "  if num_bad_epochs==patience:\n",
    "    print(f'Early Stopping at epoch {epoch}')\n",
    "    break"
   ]
  },
  {
   "cell_type": "code",
   "execution_count": 127,
   "metadata": {},
   "outputs": [
    {
     "name": "stderr",
     "output_type": "stream",
     "text": [
      "  0%|          | 0/50 [00:00<?, ?it/s]/tmp/ipykernel_643054/2900843493.py:15: UserWarning: Implicit dimension choice for softmax has been deprecated. Change the call to include dim=X as an argument.\n",
      "  probabilities = torch.nn.Softmax()(logits)\n",
      "100%|██████████| 50/50 [00:01<00:00, 46.22it/s]"
     ]
    },
    {
     "name": "stdout",
     "output_type": "stream",
     "text": [
      "\n",
      "Accuracy : 75.16\n"
     ]
    },
    {
     "name": "stderr",
     "output_type": "stream",
     "text": [
      "\n"
     ]
    }
   ],
   "source": [
    "model.load_state_dict(torch.load(\"./model_weights.pt\"))\n",
    "classifier.load_state_dict(torch.load(\"./classifier_weights.pt\"))\n",
    "\n",
    "model.eval()\n",
    "classifier.eval()\n",
    "\n",
    "correct = 0\n",
    "with torch.no_grad():\n",
    "  for image, label in tqdm(test_loader):\n",
    "    image = image.to(DEVICE)\n",
    "    label = label.to(torch.int32).to(DEVICE)\n",
    "\n",
    "    embedding, _ = model.forward(image)\n",
    "    prediction = classifier.predict(embedding).to(torch.int32)\n",
    "\n",
    "    correct += int(sum(prediction==label))\n",
    "print()\n",
    "print(f\"Accuracy : {100*correct/len(test_loader.dataset):.2f}\")"
   ]
  }
 ],
 "metadata": {
  "kernelspec": {
   "display_name": "Python 3",
   "language": "python",
   "name": "python3"
  },
  "language_info": {
   "codemirror_mode": {
    "name": "ipython",
    "version": 3
   },
   "file_extension": ".py",
   "mimetype": "text/x-python",
   "name": "python",
   "nbconvert_exporter": "python",
   "pygments_lexer": "ipython3",
   "version": "3.9.2"
  }
 },
 "nbformat": 4,
 "nbformat_minor": 2
}
